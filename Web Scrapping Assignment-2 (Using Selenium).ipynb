{
 "cells": [
  {
   "cell_type": "code",
   "execution_count": 1,
   "id": "b27f1fbd",
   "metadata": {},
   "outputs": [
    {
     "name": "stdout",
     "output_type": "stream",
     "text": [
      "Collecting selenium\n",
      "  Downloading selenium-4.3.0-py3-none-any.whl (981 kB)\n",
      "Collecting trio-websocket~=0.9\n",
      "  Downloading trio_websocket-0.9.2-py3-none-any.whl (16 kB)\n",
      "Collecting trio~=0.17\n",
      "  Downloading trio-0.21.0-py3-none-any.whl (358 kB)\n",
      "Requirement already satisfied: urllib3[secure,socks]~=1.26 in c:\\programdata\\anaconda3\\lib\\site-packages (from selenium) (1.26.4)\n",
      "Requirement already satisfied: async-generator>=1.9 in c:\\programdata\\anaconda3\\lib\\site-packages (from trio~=0.17->selenium) (1.10)\n",
      "Requirement already satisfied: idna in c:\\programdata\\anaconda3\\lib\\site-packages (from trio~=0.17->selenium) (2.10)\n",
      "Requirement already satisfied: cffi>=1.14 in c:\\programdata\\anaconda3\\lib\\site-packages (from trio~=0.17->selenium) (1.14.5)\n",
      "Requirement already satisfied: sortedcontainers in c:\\programdata\\anaconda3\\lib\\site-packages (from trio~=0.17->selenium) (2.3.0)\n",
      "Requirement already satisfied: sniffio in c:\\programdata\\anaconda3\\lib\\site-packages (from trio~=0.17->selenium) (1.2.0)\n",
      "Requirement already satisfied: attrs>=19.2.0 in c:\\programdata\\anaconda3\\lib\\site-packages (from trio~=0.17->selenium) (20.3.0)\n",
      "Collecting outcome\n",
      "  Downloading outcome-1.2.0-py2.py3-none-any.whl (9.7 kB)\n",
      "Requirement already satisfied: pycparser in c:\\programdata\\anaconda3\\lib\\site-packages (from cffi>=1.14->trio~=0.17->selenium) (2.20)\n",
      "Collecting wsproto>=0.14\n",
      "  Downloading wsproto-1.1.0-py3-none-any.whl (24 kB)\n",
      "Requirement already satisfied: certifi in c:\\programdata\\anaconda3\\lib\\site-packages (from urllib3[secure,socks]~=1.26->selenium) (2020.12.5)\n",
      "Requirement already satisfied: cryptography>=1.3.4 in c:\\programdata\\anaconda3\\lib\\site-packages (from urllib3[secure,socks]~=1.26->selenium) (3.4.7)\n",
      "Requirement already satisfied: pyOpenSSL>=0.14 in c:\\programdata\\anaconda3\\lib\\site-packages (from urllib3[secure,socks]~=1.26->selenium) (20.0.1)\n",
      "Requirement already satisfied: PySocks!=1.5.7,<2.0,>=1.5.6 in c:\\programdata\\anaconda3\\lib\\site-packages (from urllib3[secure,socks]~=1.26->selenium) (1.7.1)\n",
      "Requirement already satisfied: six>=1.5.2 in c:\\programdata\\anaconda3\\lib\\site-packages (from pyOpenSSL>=0.14->urllib3[secure,socks]~=1.26->selenium) (1.15.0)\n",
      "Collecting h11<1,>=0.9.0\n",
      "  Downloading h11-0.13.0-py3-none-any.whl (58 kB)\n",
      "Installing collected packages: outcome, h11, wsproto, trio, trio-websocket, selenium\n",
      "Successfully installed h11-0.13.0 outcome-1.2.0 selenium-4.3.0 trio-0.21.0 trio-websocket-0.9.2 wsproto-1.1.0\n"
     ]
    }
   ],
   "source": [
    "#Insatlling selenium\n",
    "!pip install selenium"
   ]
  },
  {
   "cell_type": "code",
   "execution_count": 1,
   "id": "a780954d",
   "metadata": {},
   "outputs": [],
   "source": [
    "# Importing librabries\n",
    "import selenium\n",
    "from selenium import webdriver\n",
    "import pandas as pd\n",
    "import warnings\n",
    "warnings.filterwarnings('ignore')"
   ]
  },
  {
   "cell_type": "markdown",
   "id": "2fbb7b97",
   "metadata": {},
   "source": [
    "# Q1. Write a python program to scrape data for “Data Analyst” Job position in “Bangalore” location. You have to scrape the job-title, job-location, company_name, experience_required. You have to scrape first 10 jobs data."
   ]
  },
  {
   "cell_type": "code",
   "execution_count": 95,
   "id": "56ea1181",
   "metadata": {},
   "outputs": [],
   "source": [
    "# Connecting to the browser\n",
    "driver=webdriver.Chrome(r'C:\\Users\\Vishal Manoj\\Downloads\\Chrome\\chromedriver.exe')"
   ]
  },
  {
   "cell_type": "code",
   "execution_count": 96,
   "id": "85706c59",
   "metadata": {},
   "outputs": [],
   "source": [
    "url= 'https://www.naukri.com/'\n",
    "driver.get(url)"
   ]
  },
  {
   "cell_type": "code",
   "execution_count": 97,
   "id": "0d82a5a9",
   "metadata": {},
   "outputs": [
    {
     "data": {
      "text/plain": [
       "<selenium.webdriver.chrome.webdriver.WebDriver (session=\"e210b9d096109dc0becf43fc41d96006\")>"
      ]
     },
     "execution_count": 97,
     "metadata": {},
     "output_type": "execute_result"
    }
   ],
   "source": [
    "driver"
   ]
  },
  {
   "cell_type": "code",
   "execution_count": 2,
   "id": "782523d5",
   "metadata": {},
   "outputs": [],
   "source": [
    "from selenium.webdriver.common.by import By"
   ]
  },
  {
   "cell_type": "code",
   "execution_count": 99,
   "id": "96424818",
   "metadata": {},
   "outputs": [
    {
     "data": {
      "text/plain": [
       "[<selenium.webdriver.remote.webelement.WebElement (session=\"e210b9d096109dc0becf43fc41d96006\", element=\"d8e4b1e0-c988-44c1-89c6-105cefa80476\")>,\n",
       " <selenium.webdriver.remote.webelement.WebElement (session=\"e210b9d096109dc0becf43fc41d96006\", element=\"b331e8ca-4475-4088-bfeb-425755b053e0\")>]"
      ]
     },
     "execution_count": 99,
     "metadata": {},
     "output_type": "execute_result"
    }
   ],
   "source": [
    "search_job=driver.find_elements(By.CLASS_NAME,'suggestor-input ')\n",
    "search_job"
   ]
  },
  {
   "cell_type": "code",
   "execution_count": 100,
   "id": "93f1e65a",
   "metadata": {},
   "outputs": [],
   "source": [
    "search_job[0].send_keys('Data Analyst')"
   ]
  },
  {
   "cell_type": "code",
   "execution_count": 101,
   "id": "73f73334",
   "metadata": {},
   "outputs": [
    {
     "data": {
      "text/plain": [
       "[<selenium.webdriver.remote.webelement.WebElement (session=\"e210b9d096109dc0becf43fc41d96006\", element=\"b331e8ca-4475-4088-bfeb-425755b053e0\")>]"
      ]
     },
     "execution_count": 101,
     "metadata": {},
     "output_type": "execute_result"
    }
   ],
   "source": [
    "search_loc=driver.find_elements(By.XPATH,'/html/body/div[1]/div[2]/div[3]/div/div/div[5]/div/div/div/input')\n",
    "search_loc"
   ]
  },
  {
   "cell_type": "code",
   "execution_count": 102,
   "id": "42155f91",
   "metadata": {},
   "outputs": [],
   "source": [
    "search_loc[0].send_keys('Bangalore')"
   ]
  },
  {
   "cell_type": "code",
   "execution_count": 103,
   "id": "cbd95e9f",
   "metadata": {},
   "outputs": [
    {
     "data": {
      "text/plain": [
       "[<selenium.webdriver.remote.webelement.WebElement (session=\"e210b9d096109dc0becf43fc41d96006\", element=\"0810eadc-47c4-40a7-9d49-ca95cf70da4c\")>]"
      ]
     },
     "execution_count": 103,
     "metadata": {},
     "output_type": "execute_result"
    }
   ],
   "source": [
    "search_bo=driver.find_elements(By.XPATH,'/html/body/div[1]/div[2]/div[3]/div/div/div[6]')\n",
    "search_bo"
   ]
  },
  {
   "cell_type": "code",
   "execution_count": 105,
   "id": "3d1a01a8",
   "metadata": {},
   "outputs": [],
   "source": [
    "search_bo[0].click()"
   ]
  },
  {
   "cell_type": "code",
   "execution_count": 106,
   "id": "f302a2d5",
   "metadata": {},
   "outputs": [],
   "source": [
    "titles=driver.find_elements(By.XPATH,'//a[@class=\"title fw500 ellipsis\"]')"
   ]
  },
  {
   "cell_type": "code",
   "execution_count": 110,
   "id": "b5affdc3",
   "metadata": {},
   "outputs": [],
   "source": [
    "Company=driver.find_elements(By.XPATH,'//a[@class=\"subTitle ellipsis fleft\"]')"
   ]
  },
  {
   "cell_type": "code",
   "execution_count": 116,
   "id": "d71fee10",
   "metadata": {},
   "outputs": [],
   "source": [
    "Rating=driver.find_elements(By.XPATH,'//span[@class=\"starRating fleft dot\"]')"
   ]
  },
  {
   "cell_type": "code",
   "execution_count": 123,
   "id": "c6cca2fc",
   "metadata": {},
   "outputs": [],
   "source": [
    "T=[]\n",
    "C=[]\n",
    "\n",
    "for i in range (0, len(titles)):\n",
    "    T.append(titles[i].text)\n",
    "    C.append(Company[i].text)"
   ]
  },
  {
   "cell_type": "code",
   "execution_count": 124,
   "id": "a55b2da7",
   "metadata": {},
   "outputs": [],
   "source": [
    "av=pd.DataFrame(list(zip(T,C)),\n",
    "               columns =['Title', 'Company'])"
   ]
  },
  {
   "cell_type": "code",
   "execution_count": 127,
   "id": "80165134",
   "metadata": {},
   "outputs": [
    {
     "data": {
      "text/html": [
       "<div>\n",
       "<style scoped>\n",
       "    .dataframe tbody tr th:only-of-type {\n",
       "        vertical-align: middle;\n",
       "    }\n",
       "\n",
       "    .dataframe tbody tr th {\n",
       "        vertical-align: top;\n",
       "    }\n",
       "\n",
       "    .dataframe thead th {\n",
       "        text-align: right;\n",
       "    }\n",
       "</style>\n",
       "<table border=\"1\" class=\"dataframe\">\n",
       "  <thead>\n",
       "    <tr style=\"text-align: right;\">\n",
       "      <th></th>\n",
       "      <th>Title</th>\n",
       "      <th>Company</th>\n",
       "    </tr>\n",
       "  </thead>\n",
       "  <tbody>\n",
       "    <tr>\n",
       "      <th>0</th>\n",
       "      <td>Data Analyst/Senior Data Analyst</td>\n",
       "      <td>Meesho</td>\n",
       "    </tr>\n",
       "    <tr>\n",
       "      <th>1</th>\n",
       "      <td>Senior Data Analyst II</td>\n",
       "      <td>Flipkart</td>\n",
       "    </tr>\n",
       "    <tr>\n",
       "      <th>2</th>\n",
       "      <td>Data Analyst(Skill set required: advanced SQL ...</td>\n",
       "      <td>Amazon</td>\n",
       "    </tr>\n",
       "    <tr>\n",
       "      <th>3</th>\n",
       "      <td>Senior Data Analyst</td>\n",
       "      <td>Walmart</td>\n",
       "    </tr>\n",
       "    <tr>\n",
       "      <th>4</th>\n",
       "      <td>Senior Data Management Analyst</td>\n",
       "      <td>Wells Fargo</td>\n",
       "    </tr>\n",
       "    <tr>\n",
       "      <th>5</th>\n",
       "      <td>Business Analyst/Data Analyst</td>\n",
       "      <td>cliqhr.com</td>\n",
       "    </tr>\n",
       "    <tr>\n",
       "      <th>6</th>\n",
       "      <td>Senior Data Analyst</td>\n",
       "      <td>manoramaONLINE</td>\n",
       "    </tr>\n",
       "    <tr>\n",
       "      <th>7</th>\n",
       "      <td>Data Analyst</td>\n",
       "      <td>Porter.in</td>\n",
       "    </tr>\n",
       "    <tr>\n",
       "      <th>8</th>\n",
       "      <td>Financial Data Analyst - Data &amp; Analytics</td>\n",
       "      <td>Moody's</td>\n",
       "    </tr>\n",
       "    <tr>\n",
       "      <th>9</th>\n",
       "      <td>Data Analyst</td>\n",
       "      <td>ITC Infotech</td>\n",
       "    </tr>\n",
       "    <tr>\n",
       "      <th>10</th>\n",
       "      <td>Data Analyst / Product Analyst / Business Analyst</td>\n",
       "      <td>Benchire</td>\n",
       "    </tr>\n",
       "    <tr>\n",
       "      <th>11</th>\n",
       "      <td>Senior Data Analyst</td>\n",
       "      <td>Liventus</td>\n",
       "    </tr>\n",
       "    <tr>\n",
       "      <th>12</th>\n",
       "      <td>Data Analyst II</td>\n",
       "      <td>Cerner</td>\n",
       "    </tr>\n",
       "    <tr>\n",
       "      <th>13</th>\n",
       "      <td>Business Analyst/Data analyst - Payments Domain</td>\n",
       "      <td>CGI</td>\n",
       "    </tr>\n",
       "    <tr>\n",
       "      <th>14</th>\n",
       "      <td>Data Analyst</td>\n",
       "      <td>HyreFox Consultants Pvt Ltd</td>\n",
       "    </tr>\n",
       "    <tr>\n",
       "      <th>15</th>\n",
       "      <td>Data Analyst / Data Analytics / Business analy...</td>\n",
       "      <td>Aspyra HR Services</td>\n",
       "    </tr>\n",
       "    <tr>\n",
       "      <th>16</th>\n",
       "      <td>Legal Operations Data Analyst (I P Invoice Foc...</td>\n",
       "      <td>Applied Materials</td>\n",
       "    </tr>\n",
       "    <tr>\n",
       "      <th>17</th>\n",
       "      <td>Data Analyst III</td>\n",
       "      <td>Walmart</td>\n",
       "    </tr>\n",
       "    <tr>\n",
       "      <th>18</th>\n",
       "      <td>Senior Data Analyst</td>\n",
       "      <td>MediaMath</td>\n",
       "    </tr>\n",
       "    <tr>\n",
       "      <th>19</th>\n",
       "      <td>Senior Data Analyst - Data Modeling/Database D...</td>\n",
       "      <td>K &amp; R Enterprises</td>\n",
       "    </tr>\n",
       "  </tbody>\n",
       "</table>\n",
       "</div>"
      ],
      "text/plain": [
       "                                                Title  \\\n",
       "0                    Data Analyst/Senior Data Analyst   \n",
       "1                              Senior Data Analyst II   \n",
       "2   Data Analyst(Skill set required: advanced SQL ...   \n",
       "3                                 Senior Data Analyst   \n",
       "4                      Senior Data Management Analyst   \n",
       "5                       Business Analyst/Data Analyst   \n",
       "6                                 Senior Data Analyst   \n",
       "7                                        Data Analyst   \n",
       "8           Financial Data Analyst - Data & Analytics   \n",
       "9                                        Data Analyst   \n",
       "10  Data Analyst / Product Analyst / Business Analyst   \n",
       "11                                Senior Data Analyst   \n",
       "12                                    Data Analyst II   \n",
       "13    Business Analyst/Data analyst - Payments Domain   \n",
       "14                                       Data Analyst   \n",
       "15  Data Analyst / Data Analytics / Business analy...   \n",
       "16  Legal Operations Data Analyst (I P Invoice Foc...   \n",
       "17                                   Data Analyst III   \n",
       "18                                Senior Data Analyst   \n",
       "19  Senior Data Analyst - Data Modeling/Database D...   \n",
       "\n",
       "                        Company  \n",
       "0                        Meesho  \n",
       "1                      Flipkart  \n",
       "2                        Amazon  \n",
       "3                       Walmart  \n",
       "4                   Wells Fargo  \n",
       "5                    cliqhr.com  \n",
       "6                manoramaONLINE  \n",
       "7                     Porter.in  \n",
       "8                       Moody's  \n",
       "9                  ITC Infotech  \n",
       "10                     Benchire  \n",
       "11                     Liventus  \n",
       "12                       Cerner  \n",
       "13                          CGI  \n",
       "14  HyreFox Consultants Pvt Ltd  \n",
       "15           Aspyra HR Services  \n",
       "16            Applied Materials  \n",
       "17                      Walmart  \n",
       "18                    MediaMath  \n",
       "19            K & R Enterprises  "
      ]
     },
     "execution_count": 127,
     "metadata": {},
     "output_type": "execute_result"
    }
   ],
   "source": [
    "av"
   ]
  },
  {
   "cell_type": "code",
   "execution_count": 128,
   "id": "cbb61466",
   "metadata": {},
   "outputs": [
    {
     "data": {
      "text/html": [
       "<div>\n",
       "<style scoped>\n",
       "    .dataframe tbody tr th:only-of-type {\n",
       "        vertical-align: middle;\n",
       "    }\n",
       "\n",
       "    .dataframe tbody tr th {\n",
       "        vertical-align: top;\n",
       "    }\n",
       "\n",
       "    .dataframe thead th {\n",
       "        text-align: right;\n",
       "    }\n",
       "</style>\n",
       "<table border=\"1\" class=\"dataframe\">\n",
       "  <thead>\n",
       "    <tr style=\"text-align: right;\">\n",
       "      <th></th>\n",
       "      <th>Title</th>\n",
       "      <th>Company</th>\n",
       "    </tr>\n",
       "  </thead>\n",
       "  <tbody>\n",
       "    <tr>\n",
       "      <th>0</th>\n",
       "      <td>Data Analyst/Senior Data Analyst</td>\n",
       "      <td>Meesho</td>\n",
       "    </tr>\n",
       "    <tr>\n",
       "      <th>1</th>\n",
       "      <td>Senior Data Analyst II</td>\n",
       "      <td>Flipkart</td>\n",
       "    </tr>\n",
       "    <tr>\n",
       "      <th>2</th>\n",
       "      <td>Data Analyst(Skill set required: advanced SQL ...</td>\n",
       "      <td>Amazon</td>\n",
       "    </tr>\n",
       "    <tr>\n",
       "      <th>3</th>\n",
       "      <td>Senior Data Analyst</td>\n",
       "      <td>Walmart</td>\n",
       "    </tr>\n",
       "    <tr>\n",
       "      <th>4</th>\n",
       "      <td>Senior Data Management Analyst</td>\n",
       "      <td>Wells Fargo</td>\n",
       "    </tr>\n",
       "    <tr>\n",
       "      <th>5</th>\n",
       "      <td>Business Analyst/Data Analyst</td>\n",
       "      <td>cliqhr.com</td>\n",
       "    </tr>\n",
       "    <tr>\n",
       "      <th>6</th>\n",
       "      <td>Senior Data Analyst</td>\n",
       "      <td>manoramaONLINE</td>\n",
       "    </tr>\n",
       "    <tr>\n",
       "      <th>7</th>\n",
       "      <td>Data Analyst</td>\n",
       "      <td>Porter.in</td>\n",
       "    </tr>\n",
       "    <tr>\n",
       "      <th>8</th>\n",
       "      <td>Financial Data Analyst - Data &amp; Analytics</td>\n",
       "      <td>Moody's</td>\n",
       "    </tr>\n",
       "    <tr>\n",
       "      <th>9</th>\n",
       "      <td>Data Analyst</td>\n",
       "      <td>ITC Infotech</td>\n",
       "    </tr>\n",
       "  </tbody>\n",
       "</table>\n",
       "</div>"
      ],
      "text/plain": [
       "                                               Title         Company\n",
       "0                   Data Analyst/Senior Data Analyst          Meesho\n",
       "1                             Senior Data Analyst II        Flipkart\n",
       "2  Data Analyst(Skill set required: advanced SQL ...          Amazon\n",
       "3                                Senior Data Analyst         Walmart\n",
       "4                     Senior Data Management Analyst     Wells Fargo\n",
       "5                      Business Analyst/Data Analyst      cliqhr.com\n",
       "6                                Senior Data Analyst  manoramaONLINE\n",
       "7                                       Data Analyst       Porter.in\n",
       "8          Financial Data Analyst - Data & Analytics         Moody's\n",
       "9                                       Data Analyst    ITC Infotech"
      ]
     },
     "execution_count": 128,
     "metadata": {},
     "output_type": "execute_result"
    }
   ],
   "source": [
    "av.head(10)"
   ]
  },
  {
   "cell_type": "code",
   "execution_count": 131,
   "id": "e1c48f34",
   "metadata": {},
   "outputs": [],
   "source": [
    "d=pd.DataFrame(av['Title'].head(10))"
   ]
  },
  {
   "cell_type": "code",
   "execution_count": 132,
   "id": "b987f34c",
   "metadata": {},
   "outputs": [
    {
     "data": {
      "text/html": [
       "<div>\n",
       "<style scoped>\n",
       "    .dataframe tbody tr th:only-of-type {\n",
       "        vertical-align: middle;\n",
       "    }\n",
       "\n",
       "    .dataframe tbody tr th {\n",
       "        vertical-align: top;\n",
       "    }\n",
       "\n",
       "    .dataframe thead th {\n",
       "        text-align: right;\n",
       "    }\n",
       "</style>\n",
       "<table border=\"1\" class=\"dataframe\">\n",
       "  <thead>\n",
       "    <tr style=\"text-align: right;\">\n",
       "      <th></th>\n",
       "      <th>Title</th>\n",
       "    </tr>\n",
       "  </thead>\n",
       "  <tbody>\n",
       "    <tr>\n",
       "      <th>0</th>\n",
       "      <td>Data Analyst/Senior Data Analyst</td>\n",
       "    </tr>\n",
       "    <tr>\n",
       "      <th>1</th>\n",
       "      <td>Senior Data Analyst II</td>\n",
       "    </tr>\n",
       "    <tr>\n",
       "      <th>2</th>\n",
       "      <td>Data Analyst(Skill set required: advanced SQL ...</td>\n",
       "    </tr>\n",
       "    <tr>\n",
       "      <th>3</th>\n",
       "      <td>Senior Data Analyst</td>\n",
       "    </tr>\n",
       "    <tr>\n",
       "      <th>4</th>\n",
       "      <td>Senior Data Management Analyst</td>\n",
       "    </tr>\n",
       "    <tr>\n",
       "      <th>5</th>\n",
       "      <td>Business Analyst/Data Analyst</td>\n",
       "    </tr>\n",
       "    <tr>\n",
       "      <th>6</th>\n",
       "      <td>Senior Data Analyst</td>\n",
       "    </tr>\n",
       "    <tr>\n",
       "      <th>7</th>\n",
       "      <td>Data Analyst</td>\n",
       "    </tr>\n",
       "    <tr>\n",
       "      <th>8</th>\n",
       "      <td>Financial Data Analyst - Data &amp; Analytics</td>\n",
       "    </tr>\n",
       "    <tr>\n",
       "      <th>9</th>\n",
       "      <td>Data Analyst</td>\n",
       "    </tr>\n",
       "  </tbody>\n",
       "</table>\n",
       "</div>"
      ],
      "text/plain": [
       "                                               Title\n",
       "0                   Data Analyst/Senior Data Analyst\n",
       "1                             Senior Data Analyst II\n",
       "2  Data Analyst(Skill set required: advanced SQL ...\n",
       "3                                Senior Data Analyst\n",
       "4                     Senior Data Management Analyst\n",
       "5                      Business Analyst/Data Analyst\n",
       "6                                Senior Data Analyst\n",
       "7                                       Data Analyst\n",
       "8          Financial Data Analyst - Data & Analytics\n",
       "9                                       Data Analyst"
      ]
     },
     "execution_count": 132,
     "metadata": {},
     "output_type": "execute_result"
    }
   ],
   "source": [
    "d"
   ]
  },
  {
   "cell_type": "markdown",
   "id": "64cf1fed",
   "metadata": {},
   "source": [
    "# Q2: Write a python program to scrape data for “Data Scientist” Job position in “Bangalore” location. You have to scrape the job-title, job-location, company_name. You have to scrape first 10 jobs data."
   ]
  },
  {
   "cell_type": "code",
   "execution_count": 2,
   "id": "aaaee716",
   "metadata": {},
   "outputs": [],
   "source": [
    "driver=webdriver.Chrome(r'C:\\Users\\Vishal Manoj\\Downloads\\Chrome\\chromedriver.exe')"
   ]
  },
  {
   "cell_type": "code",
   "execution_count": 3,
   "id": "5e74a98f",
   "metadata": {},
   "outputs": [],
   "source": [
    "url= 'https://www.naukri.com/'\n",
    "driver.get(url)"
   ]
  },
  {
   "cell_type": "code",
   "execution_count": 4,
   "id": "df55f924",
   "metadata": {},
   "outputs": [],
   "source": [
    "from selenium.webdriver.common.by import By"
   ]
  },
  {
   "cell_type": "code",
   "execution_count": 5,
   "id": "66f823b4",
   "metadata": {},
   "outputs": [
    {
     "data": {
      "text/plain": [
       "[<selenium.webdriver.remote.webelement.WebElement (session=\"fdd3157048f3937554fd09cdcf4748ed\", element=\"48835a96-7966-45e0-8075-2bff7f782ace\")>,\n",
       " <selenium.webdriver.remote.webelement.WebElement (session=\"fdd3157048f3937554fd09cdcf4748ed\", element=\"6b2e47c0-3243-41c7-a6ed-84a8181caca2\")>]"
      ]
     },
     "execution_count": 5,
     "metadata": {},
     "output_type": "execute_result"
    }
   ],
   "source": [
    "search_job=driver.find_elements(By.CLASS_NAME,'suggestor-input ')\n",
    "search_job"
   ]
  },
  {
   "cell_type": "code",
   "execution_count": 6,
   "id": "373a15df",
   "metadata": {},
   "outputs": [],
   "source": [
    "search_job[0].send_keys('Data Scientist')"
   ]
  },
  {
   "cell_type": "code",
   "execution_count": 7,
   "id": "d453bacb",
   "metadata": {},
   "outputs": [
    {
     "data": {
      "text/plain": [
       "[<selenium.webdriver.remote.webelement.WebElement (session=\"fdd3157048f3937554fd09cdcf4748ed\", element=\"6b2e47c0-3243-41c7-a6ed-84a8181caca2\")>]"
      ]
     },
     "execution_count": 7,
     "metadata": {},
     "output_type": "execute_result"
    }
   ],
   "source": [
    "search_loc=driver.find_elements(By.XPATH,'/html/body/div[1]/div[2]/div[3]/div/div/div[5]/div/div/div/input')\n",
    "search_loc"
   ]
  },
  {
   "cell_type": "code",
   "execution_count": 8,
   "id": "d482594b",
   "metadata": {},
   "outputs": [],
   "source": [
    "search_loc[0].send_keys('Bangalore')"
   ]
  },
  {
   "cell_type": "code",
   "execution_count": 9,
   "id": "3d543121",
   "metadata": {},
   "outputs": [
    {
     "data": {
      "text/plain": [
       "[<selenium.webdriver.remote.webelement.WebElement (session=\"fdd3157048f3937554fd09cdcf4748ed\", element=\"64baf72d-8cb8-45a7-b728-77b90625ef84\")>]"
      ]
     },
     "execution_count": 9,
     "metadata": {},
     "output_type": "execute_result"
    }
   ],
   "source": [
    "search_bo=driver.find_elements(By.XPATH,'/html/body/div[1]/div[2]/div[3]/div/div/div[6]')\n",
    "search_bo"
   ]
  },
  {
   "cell_type": "code",
   "execution_count": 10,
   "id": "51882dd4",
   "metadata": {},
   "outputs": [],
   "source": [
    "search_bo[0].click()"
   ]
  },
  {
   "cell_type": "code",
   "execution_count": 17,
   "id": "6a4cfdcf",
   "metadata": {},
   "outputs": [],
   "source": [
    "titles=driver.find_elements(By.XPATH,'//a[@class=\"title fw500 ellipsis\"]')"
   ]
  },
  {
   "cell_type": "code",
   "execution_count": 24,
   "id": "caf44be1",
   "metadata": {},
   "outputs": [],
   "source": [
    "Loc=driver.find_elements(By.XPATH,'//li[@class=\"fleft grey-text br2 placeHolderLi location\"]')"
   ]
  },
  {
   "cell_type": "code",
   "execution_count": 28,
   "id": "6e1c0788",
   "metadata": {},
   "outputs": [],
   "source": [
    "Nam=driver.find_elements(By.XPATH,'//a[@class=\"subTitle ellipsis fleft\"]')"
   ]
  },
  {
   "cell_type": "code",
   "execution_count": 31,
   "id": "615a9d2e",
   "metadata": {},
   "outputs": [],
   "source": [
    "rat=driver.find_elements(By.XPATH,'//span[@class=\"starRating fleft dot\"]')"
   ]
  },
  {
   "cell_type": "code",
   "execution_count": 35,
   "id": "08de9031",
   "metadata": {},
   "outputs": [],
   "source": [
    "T=[]\n",
    "C=[]\n",
    "N=[]\n",
    "R=[]\n",
    "for i in range (0, len(titles)):\n",
    "    T.append(titles[i].text)\n",
    "    C.append(Loc[i].text)\n",
    "    N.append(Nam[i].text)\n",
    "    R.append(rat[i].text)"
   ]
  },
  {
   "cell_type": "code",
   "execution_count": 36,
   "id": "9aca035f",
   "metadata": {},
   "outputs": [],
   "source": [
    "av=pd.DataFrame(list(zip(T,C,N,R)),\n",
    "               columns =['Title', 'Location','Company','Rate'])"
   ]
  },
  {
   "cell_type": "code",
   "execution_count": 37,
   "id": "cd6e7777",
   "metadata": {},
   "outputs": [
    {
     "data": {
      "text/html": [
       "<div>\n",
       "<style scoped>\n",
       "    .dataframe tbody tr th:only-of-type {\n",
       "        vertical-align: middle;\n",
       "    }\n",
       "\n",
       "    .dataframe tbody tr th {\n",
       "        vertical-align: top;\n",
       "    }\n",
       "\n",
       "    .dataframe thead th {\n",
       "        text-align: right;\n",
       "    }\n",
       "</style>\n",
       "<table border=\"1\" class=\"dataframe\">\n",
       "  <thead>\n",
       "    <tr style=\"text-align: right;\">\n",
       "      <th></th>\n",
       "      <th>Title</th>\n",
       "      <th>Location</th>\n",
       "      <th>Company</th>\n",
       "      <th>Rate</th>\n",
       "    </tr>\n",
       "  </thead>\n",
       "  <tbody>\n",
       "    <tr>\n",
       "      <th>0</th>\n",
       "      <td>Urgent Job Opening For AI Practitioner - Data ...</td>\n",
       "      <td>Bangalore/Bengaluru, Kochi/Cochin, New Delhi, ...</td>\n",
       "      <td>Wipro</td>\n",
       "      <td>3.9</td>\n",
       "    </tr>\n",
       "    <tr>\n",
       "      <th>1</th>\n",
       "      <td>Opportunity For Data Scientist - Female Candid...</td>\n",
       "      <td>Bangalore/Bengaluru, Gurgaon/Gurugram, Mumbai ...</td>\n",
       "      <td>PayU</td>\n",
       "      <td>4.3</td>\n",
       "    </tr>\n",
       "    <tr>\n",
       "      <th>2</th>\n",
       "      <td>Research and Development -AI/ML -(PhD )</td>\n",
       "      <td>Bangalore/Bengaluru, Noida, Hyderabad/Secunder...</td>\n",
       "      <td>EXL</td>\n",
       "      <td>3.9</td>\n",
       "    </tr>\n",
       "    <tr>\n",
       "      <th>3</th>\n",
       "      <td>Senior Data Science Engineer</td>\n",
       "      <td>Bangalore/Bengaluru, Gurgaon/Gurugram, Mumbai ...</td>\n",
       "      <td>Fractal Analytics</td>\n",
       "      <td>4.2</td>\n",
       "    </tr>\n",
       "    <tr>\n",
       "      <th>4</th>\n",
       "      <td>Senior Data Scientist, Personalization</td>\n",
       "      <td>Bangalore/Bengaluru</td>\n",
       "      <td>Walmart</td>\n",
       "      <td>4.2</td>\n",
       "    </tr>\n",
       "    <tr>\n",
       "      <th>5</th>\n",
       "      <td>Data Scientist</td>\n",
       "      <td>Bangalore/Bengaluru</td>\n",
       "      <td>Schneider Electric</td>\n",
       "      <td>4.2</td>\n",
       "    </tr>\n",
       "    <tr>\n",
       "      <th>6</th>\n",
       "      <td>DigitalBCG GAMMA Data Scientist</td>\n",
       "      <td>Bangalore/Bengaluru, New Delhi</td>\n",
       "      <td>Boston Consulting Group</td>\n",
       "      <td>4.1</td>\n",
       "    </tr>\n",
       "    <tr>\n",
       "      <th>7</th>\n",
       "      <td>Senior Data Scientist</td>\n",
       "      <td>Bangalore/Bengaluru, Mumbai</td>\n",
       "      <td>Baker Hughes</td>\n",
       "      <td>4.2</td>\n",
       "    </tr>\n",
       "    <tr>\n",
       "      <th>8</th>\n",
       "      <td>Data Science - Engineering Manager</td>\n",
       "      <td>Bangalore/Bengaluru, Noida, Mumbai</td>\n",
       "      <td>Paytm</td>\n",
       "      <td>3.7</td>\n",
       "    </tr>\n",
       "    <tr>\n",
       "      <th>9</th>\n",
       "      <td>Data Scientist</td>\n",
       "      <td>Bangalore/Bengaluru, Mumbai (All Areas)</td>\n",
       "      <td>UPL</td>\n",
       "      <td>4.3</td>\n",
       "    </tr>\n",
       "    <tr>\n",
       "      <th>10</th>\n",
       "      <td>Data Scientist</td>\n",
       "      <td>Bangalore/Bengaluru</td>\n",
       "      <td>Infosys</td>\n",
       "      <td>4.0</td>\n",
       "    </tr>\n",
       "    <tr>\n",
       "      <th>11</th>\n",
       "      <td>Data Scientist: Advanced Analytics</td>\n",
       "      <td>Bangalore/Bengaluru</td>\n",
       "      <td>IBM</td>\n",
       "      <td>4.2</td>\n",
       "    </tr>\n",
       "    <tr>\n",
       "      <th>12</th>\n",
       "      <td>Data Engineer - ML Ops</td>\n",
       "      <td>Bangalore/Bengaluru</td>\n",
       "      <td>VISA</td>\n",
       "      <td>4.2</td>\n",
       "    </tr>\n",
       "    <tr>\n",
       "      <th>13</th>\n",
       "      <td>Data Scientist</td>\n",
       "      <td>Bangalore/Bengaluru</td>\n",
       "      <td>Applied Materials</td>\n",
       "      <td>4.3</td>\n",
       "    </tr>\n",
       "    <tr>\n",
       "      <th>14</th>\n",
       "      <td>Data Scientist</td>\n",
       "      <td>Bangalore/Bengaluru</td>\n",
       "      <td>Applied Materials</td>\n",
       "      <td>4.3</td>\n",
       "    </tr>\n",
       "    <tr>\n",
       "      <th>15</th>\n",
       "      <td>Sr Research Scientist ( AI )</td>\n",
       "      <td>Bangalore/Bengaluru</td>\n",
       "      <td>Hitachi Ltd.</td>\n",
       "      <td>4.0</td>\n",
       "    </tr>\n",
       "    <tr>\n",
       "      <th>16</th>\n",
       "      <td>Senior Data Scientist</td>\n",
       "      <td>Bangalore/Bengaluru</td>\n",
       "      <td>Hitachi Ltd.</td>\n",
       "      <td>4.0</td>\n",
       "    </tr>\n",
       "    <tr>\n",
       "      <th>17</th>\n",
       "      <td>Junior Data Scientist</td>\n",
       "      <td>Bangalore/Bengaluru</td>\n",
       "      <td>Hitachi Ltd.</td>\n",
       "      <td>4.0</td>\n",
       "    </tr>\n",
       "    <tr>\n",
       "      <th>18</th>\n",
       "      <td>Data Scientist</td>\n",
       "      <td>Bangalore/Bengaluru</td>\n",
       "      <td>Morgan Stanley</td>\n",
       "      <td>4.1</td>\n",
       "    </tr>\n",
       "    <tr>\n",
       "      <th>19</th>\n",
       "      <td>Data Scientist- Assistant Manager/Manager</td>\n",
       "      <td>Bangalore/Bengaluru</td>\n",
       "      <td>Genpact</td>\n",
       "      <td>4.0</td>\n",
       "    </tr>\n",
       "  </tbody>\n",
       "</table>\n",
       "</div>"
      ],
      "text/plain": [
       "                                                Title  \\\n",
       "0   Urgent Job Opening For AI Practitioner - Data ...   \n",
       "1   Opportunity For Data Scientist - Female Candid...   \n",
       "2             Research and Development -AI/ML -(PhD )   \n",
       "3                        Senior Data Science Engineer   \n",
       "4              Senior Data Scientist, Personalization   \n",
       "5                                      Data Scientist   \n",
       "6                     DigitalBCG GAMMA Data Scientist   \n",
       "7                               Senior Data Scientist   \n",
       "8                  Data Science - Engineering Manager   \n",
       "9                                      Data Scientist   \n",
       "10                                     Data Scientist   \n",
       "11                 Data Scientist: Advanced Analytics   \n",
       "12                             Data Engineer - ML Ops   \n",
       "13                                     Data Scientist   \n",
       "14                                     Data Scientist   \n",
       "15                       Sr Research Scientist ( AI )   \n",
       "16                              Senior Data Scientist   \n",
       "17                              Junior Data Scientist   \n",
       "18                                     Data Scientist   \n",
       "19          Data Scientist- Assistant Manager/Manager   \n",
       "\n",
       "                                             Location  \\\n",
       "0   Bangalore/Bengaluru, Kochi/Cochin, New Delhi, ...   \n",
       "1   Bangalore/Bengaluru, Gurgaon/Gurugram, Mumbai ...   \n",
       "2   Bangalore/Bengaluru, Noida, Hyderabad/Secunder...   \n",
       "3   Bangalore/Bengaluru, Gurgaon/Gurugram, Mumbai ...   \n",
       "4                                 Bangalore/Bengaluru   \n",
       "5                                 Bangalore/Bengaluru   \n",
       "6                      Bangalore/Bengaluru, New Delhi   \n",
       "7                         Bangalore/Bengaluru, Mumbai   \n",
       "8                  Bangalore/Bengaluru, Noida, Mumbai   \n",
       "9             Bangalore/Bengaluru, Mumbai (All Areas)   \n",
       "10                                Bangalore/Bengaluru   \n",
       "11                                Bangalore/Bengaluru   \n",
       "12                                Bangalore/Bengaluru   \n",
       "13                                Bangalore/Bengaluru   \n",
       "14                                Bangalore/Bengaluru   \n",
       "15                                Bangalore/Bengaluru   \n",
       "16                                Bangalore/Bengaluru   \n",
       "17                                Bangalore/Bengaluru   \n",
       "18                                Bangalore/Bengaluru   \n",
       "19                                Bangalore/Bengaluru   \n",
       "\n",
       "                    Company Rate  \n",
       "0                     Wipro  3.9  \n",
       "1                      PayU  4.3  \n",
       "2                       EXL  3.9  \n",
       "3         Fractal Analytics  4.2  \n",
       "4                   Walmart  4.2  \n",
       "5        Schneider Electric  4.2  \n",
       "6   Boston Consulting Group  4.1  \n",
       "7              Baker Hughes  4.2  \n",
       "8                     Paytm  3.7  \n",
       "9                       UPL  4.3  \n",
       "10                  Infosys  4.0  \n",
       "11                      IBM  4.2  \n",
       "12                     VISA  4.2  \n",
       "13        Applied Materials  4.3  \n",
       "14        Applied Materials  4.3  \n",
       "15             Hitachi Ltd.  4.0  \n",
       "16             Hitachi Ltd.  4.0  \n",
       "17             Hitachi Ltd.  4.0  \n",
       "18           Morgan Stanley  4.1  \n",
       "19                  Genpact  4.0  "
      ]
     },
     "execution_count": 37,
     "metadata": {},
     "output_type": "execute_result"
    }
   ],
   "source": [
    "av"
   ]
  },
  {
   "cell_type": "code",
   "execution_count": 41,
   "id": "2f15927b",
   "metadata": {},
   "outputs": [
    {
     "data": {
      "text/html": [
       "<div>\n",
       "<style scoped>\n",
       "    .dataframe tbody tr th:only-of-type {\n",
       "        vertical-align: middle;\n",
       "    }\n",
       "\n",
       "    .dataframe tbody tr th {\n",
       "        vertical-align: top;\n",
       "    }\n",
       "\n",
       "    .dataframe thead th {\n",
       "        text-align: right;\n",
       "    }\n",
       "</style>\n",
       "<table border=\"1\" class=\"dataframe\">\n",
       "  <thead>\n",
       "    <tr style=\"text-align: right;\">\n",
       "      <th></th>\n",
       "      <th>Title</th>\n",
       "      <th>Location</th>\n",
       "      <th>Company</th>\n",
       "    </tr>\n",
       "  </thead>\n",
       "  <tbody>\n",
       "    <tr>\n",
       "      <th>0</th>\n",
       "      <td>Urgent Job Opening For AI Practitioner - Data ...</td>\n",
       "      <td>Bangalore/Bengaluru, Kochi/Cochin, New Delhi, ...</td>\n",
       "      <td>Wipro</td>\n",
       "    </tr>\n",
       "    <tr>\n",
       "      <th>1</th>\n",
       "      <td>Opportunity For Data Scientist - Female Candid...</td>\n",
       "      <td>Bangalore/Bengaluru, Gurgaon/Gurugram, Mumbai ...</td>\n",
       "      <td>PayU</td>\n",
       "    </tr>\n",
       "    <tr>\n",
       "      <th>2</th>\n",
       "      <td>Research and Development -AI/ML -(PhD )</td>\n",
       "      <td>Bangalore/Bengaluru, Noida, Hyderabad/Secunder...</td>\n",
       "      <td>EXL</td>\n",
       "    </tr>\n",
       "    <tr>\n",
       "      <th>3</th>\n",
       "      <td>Senior Data Science Engineer</td>\n",
       "      <td>Bangalore/Bengaluru, Gurgaon/Gurugram, Mumbai ...</td>\n",
       "      <td>Fractal Analytics</td>\n",
       "    </tr>\n",
       "    <tr>\n",
       "      <th>4</th>\n",
       "      <td>Senior Data Scientist, Personalization</td>\n",
       "      <td>Bangalore/Bengaluru</td>\n",
       "      <td>Walmart</td>\n",
       "    </tr>\n",
       "    <tr>\n",
       "      <th>5</th>\n",
       "      <td>Data Scientist</td>\n",
       "      <td>Bangalore/Bengaluru</td>\n",
       "      <td>Schneider Electric</td>\n",
       "    </tr>\n",
       "    <tr>\n",
       "      <th>6</th>\n",
       "      <td>DigitalBCG GAMMA Data Scientist</td>\n",
       "      <td>Bangalore/Bengaluru, New Delhi</td>\n",
       "      <td>Boston Consulting Group</td>\n",
       "    </tr>\n",
       "    <tr>\n",
       "      <th>7</th>\n",
       "      <td>Senior Data Scientist</td>\n",
       "      <td>Bangalore/Bengaluru, Mumbai</td>\n",
       "      <td>Baker Hughes</td>\n",
       "    </tr>\n",
       "    <tr>\n",
       "      <th>8</th>\n",
       "      <td>Data Science - Engineering Manager</td>\n",
       "      <td>Bangalore/Bengaluru, Noida, Mumbai</td>\n",
       "      <td>Paytm</td>\n",
       "    </tr>\n",
       "    <tr>\n",
       "      <th>9</th>\n",
       "      <td>Data Scientist</td>\n",
       "      <td>Bangalore/Bengaluru, Mumbai (All Areas)</td>\n",
       "      <td>UPL</td>\n",
       "    </tr>\n",
       "  </tbody>\n",
       "</table>\n",
       "</div>"
      ],
      "text/plain": [
       "                                               Title  \\\n",
       "0  Urgent Job Opening For AI Practitioner - Data ...   \n",
       "1  Opportunity For Data Scientist - Female Candid...   \n",
       "2            Research and Development -AI/ML -(PhD )   \n",
       "3                       Senior Data Science Engineer   \n",
       "4             Senior Data Scientist, Personalization   \n",
       "5                                     Data Scientist   \n",
       "6                    DigitalBCG GAMMA Data Scientist   \n",
       "7                              Senior Data Scientist   \n",
       "8                 Data Science - Engineering Manager   \n",
       "9                                     Data Scientist   \n",
       "\n",
       "                                            Location                  Company  \n",
       "0  Bangalore/Bengaluru, Kochi/Cochin, New Delhi, ...                    Wipro  \n",
       "1  Bangalore/Bengaluru, Gurgaon/Gurugram, Mumbai ...                     PayU  \n",
       "2  Bangalore/Bengaluru, Noida, Hyderabad/Secunder...                      EXL  \n",
       "3  Bangalore/Bengaluru, Gurgaon/Gurugram, Mumbai ...        Fractal Analytics  \n",
       "4                                Bangalore/Bengaluru                  Walmart  \n",
       "5                                Bangalore/Bengaluru       Schneider Electric  \n",
       "6                     Bangalore/Bengaluru, New Delhi  Boston Consulting Group  \n",
       "7                        Bangalore/Bengaluru, Mumbai             Baker Hughes  \n",
       "8                 Bangalore/Bengaluru, Noida, Mumbai                    Paytm  \n",
       "9            Bangalore/Bengaluru, Mumbai (All Areas)                      UPL  "
      ]
     },
     "execution_count": 41,
     "metadata": {},
     "output_type": "execute_result"
    }
   ],
   "source": [
    "av[['Title','Location','Company']].head(10)"
   ]
  },
  {
   "cell_type": "markdown",
   "id": "290c0088",
   "metadata": {},
   "source": [
    "# Q3: In this question you have to scrape data using the filters available on the webpage as shown below:\n",
    "You have to use the location and salary filter.\n",
    "You have to scrape data for “Data Scientist” designation for first 10 job results.\n",
    "You have to scrape the job-title, job-location, company name, experience required.\n",
    "The location filter to be used is “Delhi/NCR”. The salary filter to be used is “3-6” lakhs\n",
    "The task will be done as shown in the below steps:\n",
    "1. first get the webpage https://www.naukri.com/\n",
    "2. Enter “Data Scientist” in “Skill, Designations, and Companies” field.\n",
    "3. Then click the search button.\n",
    "4. Then apply the location filter and salary filter by checking the respective boxes\n",
    "5. Then scrape the data for the first 10 jobs results you get.\n",
    "6. Finally create a dataframe of the scraped data.\n",
    "Note: All of the above steps have to be done in code. No step is to be done manually."
   ]
  },
  {
   "cell_type": "code",
   "execution_count": 54,
   "id": "a21afdba",
   "metadata": {},
   "outputs": [],
   "source": [
    "driver1=webdriver.Chrome(r'C:\\Users\\Vishal Manoj\\Downloads\\Chrome\\chromedriver.exe')"
   ]
  },
  {
   "cell_type": "code",
   "execution_count": 55,
   "id": "19889aad",
   "metadata": {},
   "outputs": [],
   "source": [
    "url= 'https://www.naukri.com/'\n",
    "driver1.get(url)"
   ]
  },
  {
   "cell_type": "code",
   "execution_count": 56,
   "id": "9f357a58",
   "metadata": {},
   "outputs": [],
   "source": [
    "from selenium.webdriver.common.by import By"
   ]
  },
  {
   "cell_type": "code",
   "execution_count": 57,
   "id": "7719ee2c",
   "metadata": {},
   "outputs": [
    {
     "data": {
      "text/plain": [
       "[<selenium.webdriver.remote.webelement.WebElement (session=\"fa24bca545402160c4cdd991acd0a82f\", element=\"c575826a-fd47-4720-bdeb-7111963a9b40\")>,\n",
       " <selenium.webdriver.remote.webelement.WebElement (session=\"fa24bca545402160c4cdd991acd0a82f\", element=\"2d49db33-04a8-4f78-90bd-8277b7b836c1\")>]"
      ]
     },
     "execution_count": 57,
     "metadata": {},
     "output_type": "execute_result"
    }
   ],
   "source": [
    "search_job=driver1.find_elements(By.CLASS_NAME,'suggestor-input ')\n",
    "search_job"
   ]
  },
  {
   "cell_type": "code",
   "execution_count": 58,
   "id": "078e80c1",
   "metadata": {},
   "outputs": [],
   "source": [
    "search_job[0].send_keys('Data Scientist')"
   ]
  },
  {
   "cell_type": "code",
   "execution_count": 59,
   "id": "893f395b",
   "metadata": {},
   "outputs": [
    {
     "data": {
      "text/plain": [
       "[<selenium.webdriver.remote.webelement.WebElement (session=\"fa24bca545402160c4cdd991acd0a82f\", element=\"4e3eea42-013f-447c-ab61-9332da7ca120\")>]"
      ]
     },
     "execution_count": 59,
     "metadata": {},
     "output_type": "execute_result"
    }
   ],
   "source": [
    "search_bo=driver1.find_elements(By.XPATH,'/html/body/div[1]/div[2]/div[3]/div/div/div[6]')\n",
    "search_bo"
   ]
  },
  {
   "cell_type": "code",
   "execution_count": 60,
   "id": "dbd185d6",
   "metadata": {},
   "outputs": [],
   "source": [
    "search_bo[0].click()"
   ]
  },
  {
   "cell_type": "code",
   "execution_count": 65,
   "id": "6d7a6e28",
   "metadata": {},
   "outputs": [],
   "source": [
    "Loc=driver1.find_elements(By.XPATH,'/html/body/div[1]/div[3]/div[2]/section[1]/div[2]/div[5]/div[2]/div[3]/label/p/span[1]')"
   ]
  },
  {
   "cell_type": "code",
   "execution_count": 66,
   "id": "095a1ff6",
   "metadata": {},
   "outputs": [
    {
     "data": {
      "text/plain": [
       "[<selenium.webdriver.remote.webelement.WebElement (session=\"fa24bca545402160c4cdd991acd0a82f\", element=\"0b8195e8-8207-4d57-903c-e123b9dcc8f5\")>]"
      ]
     },
     "execution_count": 66,
     "metadata": {},
     "output_type": "execute_result"
    }
   ],
   "source": [
    "Loc"
   ]
  },
  {
   "cell_type": "code",
   "execution_count": 67,
   "id": "841725e2",
   "metadata": {},
   "outputs": [],
   "source": [
    "Loc[0].click()"
   ]
  },
  {
   "cell_type": "code",
   "execution_count": 68,
   "id": "b4bee8fd",
   "metadata": {},
   "outputs": [],
   "source": [
    "sal=driver1.find_elements(By.XPATH,'/html/body/div[1]/div[3]/div[2]/section[1]/div[2]/div[6]/div[2]/div[2]/label/p/span[1]')"
   ]
  },
  {
   "cell_type": "code",
   "execution_count": 69,
   "id": "39a9b964",
   "metadata": {},
   "outputs": [],
   "source": [
    "sal[0].click()"
   ]
  },
  {
   "cell_type": "code",
   "execution_count": 85,
   "id": "f00099cf",
   "metadata": {},
   "outputs": [],
   "source": [
    "titles=driver1.find_elements(By.XPATH,'//a[@class=\"title fw500 ellipsis\"]')\n",
    "Loc=driver1.find_elements(By.XPATH,'//li[@class=\"fleft grey-text br2 placeHolderLi location\"]')\n",
    "Nam=driver1.find_elements(By.XPATH,'//a[@class=\"subTitle ellipsis fleft\"]')\n",
    "rat=driver1.find_elements(By.XPATH,'//span[@class=\"starRating fleft dot\"]')\n",
    "exp=driver1.find_elements(By.XPATH,'//span[@class=\"ellipsis fleft fs12 lh16 \"]')"
   ]
  },
  {
   "cell_type": "code",
   "execution_count": 90,
   "id": "a8e4e278",
   "metadata": {},
   "outputs": [],
   "source": [
    "Ti=[]\n",
    "Lo=[]\n",
    "Na=[]\n",
    "ex=[]\n",
    "for i in range (0, len(titles)):\n",
    "    Ti.append(titles[i].text)\n",
    "    Lo.append(Loc[i].text)\n",
    "    Na.append(Nam[i].text)\n",
    "    ex.append(exp[i].text)"
   ]
  },
  {
   "cell_type": "code",
   "execution_count": 91,
   "id": "886edb57",
   "metadata": {},
   "outputs": [],
   "source": [
    "at=pd.DataFrame(list(zip(Ti,Lo,Na,ex)),\n",
    "               columns =['Title', 'Location','Name','ex'])"
   ]
  },
  {
   "cell_type": "code",
   "execution_count": 92,
   "id": "11494539",
   "metadata": {},
   "outputs": [
    {
     "data": {
      "text/html": [
       "<div>\n",
       "<style scoped>\n",
       "    .dataframe tbody tr th:only-of-type {\n",
       "        vertical-align: middle;\n",
       "    }\n",
       "\n",
       "    .dataframe tbody tr th {\n",
       "        vertical-align: top;\n",
       "    }\n",
       "\n",
       "    .dataframe thead th {\n",
       "        text-align: right;\n",
       "    }\n",
       "</style>\n",
       "<table border=\"1\" class=\"dataframe\">\n",
       "  <thead>\n",
       "    <tr style=\"text-align: right;\">\n",
       "      <th></th>\n",
       "      <th>Title</th>\n",
       "      <th>Location</th>\n",
       "      <th>Name</th>\n",
       "      <th>ex</th>\n",
       "    </tr>\n",
       "  </thead>\n",
       "  <tbody>\n",
       "    <tr>\n",
       "      <th>0</th>\n",
       "      <td>DigitalBCG GAMMA Data Scientist</td>\n",
       "      <td>New Delhi, Bangalore/Bengaluru</td>\n",
       "      <td>Boston Consulting Group</td>\n",
       "      <td>2-5 Yrs</td>\n",
       "    </tr>\n",
       "    <tr>\n",
       "      <th>1</th>\n",
       "      <td>Data Scientist - Noida/Bangalore</td>\n",
       "      <td>Noida, Bangalore/Bengaluru</td>\n",
       "      <td>EXL</td>\n",
       "      <td>Not disclosed</td>\n",
       "    </tr>\n",
       "    <tr>\n",
       "      <th>2</th>\n",
       "      <td>Data Scientist - Machine learning AI</td>\n",
       "      <td>Delhi / NCR, Bangalore/Bengaluru, Mumbai (All ...</td>\n",
       "      <td>Teq Analytics</td>\n",
       "      <td>New Delhi, Bangalore/Bengaluru</td>\n",
       "    </tr>\n",
       "    <tr>\n",
       "      <th>3</th>\n",
       "      <td>Data Scientist -Machine Learning with Python</td>\n",
       "      <td>Delhi / NCR, Noida, New Delhi, Gurgaon/Gurugra...</td>\n",
       "      <td>Genpact</td>\n",
       "      <td>5-10 Yrs</td>\n",
       "    </tr>\n",
       "    <tr>\n",
       "      <th>4</th>\n",
       "      <td>Data Scientist</td>\n",
       "      <td>Pune, Gurgaon/Gurugram, Bangalore/Bengaluru</td>\n",
       "      <td>SS Supply Chain Solutions Pvt. Ltd. (3SC)</td>\n",
       "      <td>Not disclosed</td>\n",
       "    </tr>\n",
       "    <tr>\n",
       "      <th>5</th>\n",
       "      <td>Data Scientist - Engine Algorithm</td>\n",
       "      <td>Delhi / NCR, Kolkata, Mumbai, Hyderabad/Secund...</td>\n",
       "      <td>Primo Hiring</td>\n",
       "      <td>Noida, Bangalore/Bengaluru</td>\n",
       "    </tr>\n",
       "    <tr>\n",
       "      <th>6</th>\n",
       "      <td>Data Scientist - MIND Infotech</td>\n",
       "      <td>Noida</td>\n",
       "      <td>MOTHERSONSUMI INFOTECH &amp; DESIGNS LIMITED</td>\n",
       "      <td>Not disclosed</td>\n",
       "    </tr>\n",
       "    <tr>\n",
       "      <th>7</th>\n",
       "      <td>Data Scientist - Predictive Analytics</td>\n",
       "      <td>Noida, Mumbai, Chandigarh, Hyderabad/Secundera...</td>\n",
       "      <td>Confidential</td>\n",
       "      <td>Not disclosed</td>\n",
       "    </tr>\n",
       "    <tr>\n",
       "      <th>8</th>\n",
       "      <td>Data Scientist</td>\n",
       "      <td>Delhi / NCR, Bangalore/Bengaluru, Mumbai (All ...</td>\n",
       "      <td>Sydata Consulting India Pvt Ltd</td>\n",
       "      <td>2-5 Yrs</td>\n",
       "    </tr>\n",
       "    <tr>\n",
       "      <th>9</th>\n",
       "      <td>Data Scientist - Internet Jobs - II</td>\n",
       "      <td>Delhi / NCR, Bangalore/Bengaluru, Mumbai (All ...</td>\n",
       "      <td>Jobs Territory</td>\n",
       "      <td>Not disclosed</td>\n",
       "    </tr>\n",
       "    <tr>\n",
       "      <th>10</th>\n",
       "      <td>Data Scientist</td>\n",
       "      <td>Gurgaon/Gurugram</td>\n",
       "      <td>Kellton Tech Solutions Limited</td>\n",
       "      <td>Pune, Gurgaon/Gurugram, Bangalore/Bengaluru</td>\n",
       "    </tr>\n",
       "    <tr>\n",
       "      <th>11</th>\n",
       "      <td>Machine Learning Seniors</td>\n",
       "      <td>Hyderabad/Secunderabad, New Delhi</td>\n",
       "      <td>Walking Tree Consultancy Services pvt Ltd</td>\n",
       "      <td>1-3 Yrs</td>\n",
       "    </tr>\n",
       "    <tr>\n",
       "      <th>12</th>\n",
       "      <td>Hiring || Data Scientist || North Delhi || 5.5...</td>\n",
       "      <td>Delhi / NCR(Netaji Subhash Place)</td>\n",
       "      <td>Shriram Automall India Limited</td>\n",
       "      <td>Not disclosed</td>\n",
       "    </tr>\n",
       "    <tr>\n",
       "      <th>13</th>\n",
       "      <td>Data scientist- Python</td>\n",
       "      <td>Gurgaon/Gurugram</td>\n",
       "      <td>TeamPlus Staffing Solution Pvt Ltd</td>\n",
       "      <td>Delhi / NCR, Kolkata, Mumbai, Hyderabad/Secund...</td>\n",
       "    </tr>\n",
       "    <tr>\n",
       "      <th>14</th>\n",
       "      <td>Data Scientist</td>\n",
       "      <td>Gurgaon/Gurugram</td>\n",
       "      <td>T &amp; A Solutions</td>\n",
       "      <td>4-8 Yrs</td>\n",
       "    </tr>\n",
       "    <tr>\n",
       "      <th>15</th>\n",
       "      <td>Dot Net Developer</td>\n",
       "      <td>Delhi / NCR, Gurgaon/Gurugram</td>\n",
       "      <td>Nibha Infotech Private Limited</td>\n",
       "      <td>Not disclosed</td>\n",
       "    </tr>\n",
       "    <tr>\n",
       "      <th>16</th>\n",
       "      <td>Data Scientists</td>\n",
       "      <td>Gurgaon/Gurugram</td>\n",
       "      <td>Nibha Infotech Private Limited</td>\n",
       "      <td>Noida</td>\n",
       "    </tr>\n",
       "    <tr>\n",
       "      <th>17</th>\n",
       "      <td>Data Scientist (4-8 Years)</td>\n",
       "      <td>Delhi / NCR, Gurgaon/Gurugram</td>\n",
       "      <td>Redian Software Private Limited</td>\n",
       "      <td>1-6 Yrs</td>\n",
       "    </tr>\n",
       "    <tr>\n",
       "      <th>18</th>\n",
       "      <td>Associate Data Scientist - Java/ Scala/ Apache...</td>\n",
       "      <td>Noida</td>\n",
       "      <td>Smart work Consultants</td>\n",
       "      <td>Not disclosed</td>\n",
       "    </tr>\n",
       "    <tr>\n",
       "      <th>19</th>\n",
       "      <td>Database Management Expert//Ghaziabad</td>\n",
       "      <td>Ghaziabad</td>\n",
       "      <td>ABG Group</td>\n",
       "      <td>Noida, Mumbai, Chandigarh, Hyderabad/Secundera...</td>\n",
       "    </tr>\n",
       "  </tbody>\n",
       "</table>\n",
       "</div>"
      ],
      "text/plain": [
       "                                                Title  \\\n",
       "0                     DigitalBCG GAMMA Data Scientist   \n",
       "1                    Data Scientist - Noida/Bangalore   \n",
       "2                Data Scientist - Machine learning AI   \n",
       "3        Data Scientist -Machine Learning with Python   \n",
       "4                                      Data Scientist   \n",
       "5                   Data Scientist - Engine Algorithm   \n",
       "6                      Data Scientist - MIND Infotech   \n",
       "7               Data Scientist - Predictive Analytics   \n",
       "8                                      Data Scientist   \n",
       "9                 Data Scientist - Internet Jobs - II   \n",
       "10                                     Data Scientist   \n",
       "11                           Machine Learning Seniors   \n",
       "12  Hiring || Data Scientist || North Delhi || 5.5...   \n",
       "13                             Data scientist- Python   \n",
       "14                                     Data Scientist   \n",
       "15                                  Dot Net Developer   \n",
       "16                                    Data Scientists   \n",
       "17                         Data Scientist (4-8 Years)   \n",
       "18  Associate Data Scientist - Java/ Scala/ Apache...   \n",
       "19              Database Management Expert//Ghaziabad   \n",
       "\n",
       "                                             Location  \\\n",
       "0                      New Delhi, Bangalore/Bengaluru   \n",
       "1                          Noida, Bangalore/Bengaluru   \n",
       "2   Delhi / NCR, Bangalore/Bengaluru, Mumbai (All ...   \n",
       "3   Delhi / NCR, Noida, New Delhi, Gurgaon/Gurugra...   \n",
       "4         Pune, Gurgaon/Gurugram, Bangalore/Bengaluru   \n",
       "5   Delhi / NCR, Kolkata, Mumbai, Hyderabad/Secund...   \n",
       "6                                               Noida   \n",
       "7   Noida, Mumbai, Chandigarh, Hyderabad/Secundera...   \n",
       "8   Delhi / NCR, Bangalore/Bengaluru, Mumbai (All ...   \n",
       "9   Delhi / NCR, Bangalore/Bengaluru, Mumbai (All ...   \n",
       "10                                   Gurgaon/Gurugram   \n",
       "11                  Hyderabad/Secunderabad, New Delhi   \n",
       "12                  Delhi / NCR(Netaji Subhash Place)   \n",
       "13                                   Gurgaon/Gurugram   \n",
       "14                                   Gurgaon/Gurugram   \n",
       "15                      Delhi / NCR, Gurgaon/Gurugram   \n",
       "16                                   Gurgaon/Gurugram   \n",
       "17                      Delhi / NCR, Gurgaon/Gurugram   \n",
       "18                                              Noida   \n",
       "19                                          Ghaziabad   \n",
       "\n",
       "                                         Name  \\\n",
       "0                     Boston Consulting Group   \n",
       "1                                         EXL   \n",
       "2                               Teq Analytics   \n",
       "3                                     Genpact   \n",
       "4   SS Supply Chain Solutions Pvt. Ltd. (3SC)   \n",
       "5                                Primo Hiring   \n",
       "6    MOTHERSONSUMI INFOTECH & DESIGNS LIMITED   \n",
       "7                                Confidential   \n",
       "8             Sydata Consulting India Pvt Ltd   \n",
       "9                              Jobs Territory   \n",
       "10             Kellton Tech Solutions Limited   \n",
       "11  Walking Tree Consultancy Services pvt Ltd   \n",
       "12             Shriram Automall India Limited   \n",
       "13         TeamPlus Staffing Solution Pvt Ltd   \n",
       "14                            T & A Solutions   \n",
       "15             Nibha Infotech Private Limited   \n",
       "16             Nibha Infotech Private Limited   \n",
       "17            Redian Software Private Limited   \n",
       "18                     Smart work Consultants   \n",
       "19                                  ABG Group   \n",
       "\n",
       "                                                   ex  \n",
       "0                                             2-5 Yrs  \n",
       "1                                       Not disclosed  \n",
       "2                      New Delhi, Bangalore/Bengaluru  \n",
       "3                                            5-10 Yrs  \n",
       "4                                       Not disclosed  \n",
       "5                          Noida, Bangalore/Bengaluru  \n",
       "6                                       Not disclosed  \n",
       "7                                       Not disclosed  \n",
       "8                                             2-5 Yrs  \n",
       "9                                       Not disclosed  \n",
       "10        Pune, Gurgaon/Gurugram, Bangalore/Bengaluru  \n",
       "11                                            1-3 Yrs  \n",
       "12                                      Not disclosed  \n",
       "13  Delhi / NCR, Kolkata, Mumbai, Hyderabad/Secund...  \n",
       "14                                            4-8 Yrs  \n",
       "15                                      Not disclosed  \n",
       "16                                              Noida  \n",
       "17                                            1-6 Yrs  \n",
       "18                                      Not disclosed  \n",
       "19  Noida, Mumbai, Chandigarh, Hyderabad/Secundera...  "
      ]
     },
     "execution_count": 92,
     "metadata": {},
     "output_type": "execute_result"
    }
   ],
   "source": [
    "at"
   ]
  },
  {
   "cell_type": "code",
   "execution_count": 94,
   "id": "677467f8",
   "metadata": {},
   "outputs": [
    {
     "data": {
      "text/html": [
       "<div>\n",
       "<style scoped>\n",
       "    .dataframe tbody tr th:only-of-type {\n",
       "        vertical-align: middle;\n",
       "    }\n",
       "\n",
       "    .dataframe tbody tr th {\n",
       "        vertical-align: top;\n",
       "    }\n",
       "\n",
       "    .dataframe thead th {\n",
       "        text-align: right;\n",
       "    }\n",
       "</style>\n",
       "<table border=\"1\" class=\"dataframe\">\n",
       "  <thead>\n",
       "    <tr style=\"text-align: right;\">\n",
       "      <th></th>\n",
       "      <th>Title</th>\n",
       "      <th>Location</th>\n",
       "      <th>Name</th>\n",
       "      <th>ex</th>\n",
       "    </tr>\n",
       "  </thead>\n",
       "  <tbody>\n",
       "    <tr>\n",
       "      <th>0</th>\n",
       "      <td>DigitalBCG GAMMA Data Scientist</td>\n",
       "      <td>New Delhi, Bangalore/Bengaluru</td>\n",
       "      <td>Boston Consulting Group</td>\n",
       "      <td>2-5 Yrs</td>\n",
       "    </tr>\n",
       "    <tr>\n",
       "      <th>1</th>\n",
       "      <td>Data Scientist - Noida/Bangalore</td>\n",
       "      <td>Noida, Bangalore/Bengaluru</td>\n",
       "      <td>EXL</td>\n",
       "      <td>Not disclosed</td>\n",
       "    </tr>\n",
       "    <tr>\n",
       "      <th>2</th>\n",
       "      <td>Data Scientist - Machine learning AI</td>\n",
       "      <td>Delhi / NCR, Bangalore/Bengaluru, Mumbai (All ...</td>\n",
       "      <td>Teq Analytics</td>\n",
       "      <td>New Delhi, Bangalore/Bengaluru</td>\n",
       "    </tr>\n",
       "    <tr>\n",
       "      <th>3</th>\n",
       "      <td>Data Scientist -Machine Learning with Python</td>\n",
       "      <td>Delhi / NCR, Noida, New Delhi, Gurgaon/Gurugra...</td>\n",
       "      <td>Genpact</td>\n",
       "      <td>5-10 Yrs</td>\n",
       "    </tr>\n",
       "    <tr>\n",
       "      <th>4</th>\n",
       "      <td>Data Scientist</td>\n",
       "      <td>Pune, Gurgaon/Gurugram, Bangalore/Bengaluru</td>\n",
       "      <td>SS Supply Chain Solutions Pvt. Ltd. (3SC)</td>\n",
       "      <td>Not disclosed</td>\n",
       "    </tr>\n",
       "    <tr>\n",
       "      <th>5</th>\n",
       "      <td>Data Scientist - Engine Algorithm</td>\n",
       "      <td>Delhi / NCR, Kolkata, Mumbai, Hyderabad/Secund...</td>\n",
       "      <td>Primo Hiring</td>\n",
       "      <td>Noida, Bangalore/Bengaluru</td>\n",
       "    </tr>\n",
       "    <tr>\n",
       "      <th>6</th>\n",
       "      <td>Data Scientist - MIND Infotech</td>\n",
       "      <td>Noida</td>\n",
       "      <td>MOTHERSONSUMI INFOTECH &amp; DESIGNS LIMITED</td>\n",
       "      <td>Not disclosed</td>\n",
       "    </tr>\n",
       "    <tr>\n",
       "      <th>7</th>\n",
       "      <td>Data Scientist - Predictive Analytics</td>\n",
       "      <td>Noida, Mumbai, Chandigarh, Hyderabad/Secundera...</td>\n",
       "      <td>Confidential</td>\n",
       "      <td>Not disclosed</td>\n",
       "    </tr>\n",
       "    <tr>\n",
       "      <th>8</th>\n",
       "      <td>Data Scientist</td>\n",
       "      <td>Delhi / NCR, Bangalore/Bengaluru, Mumbai (All ...</td>\n",
       "      <td>Sydata Consulting India Pvt Ltd</td>\n",
       "      <td>2-5 Yrs</td>\n",
       "    </tr>\n",
       "    <tr>\n",
       "      <th>9</th>\n",
       "      <td>Data Scientist - Internet Jobs - II</td>\n",
       "      <td>Delhi / NCR, Bangalore/Bengaluru, Mumbai (All ...</td>\n",
       "      <td>Jobs Territory</td>\n",
       "      <td>Not disclosed</td>\n",
       "    </tr>\n",
       "  </tbody>\n",
       "</table>\n",
       "</div>"
      ],
      "text/plain": [
       "                                          Title  \\\n",
       "0               DigitalBCG GAMMA Data Scientist   \n",
       "1              Data Scientist - Noida/Bangalore   \n",
       "2          Data Scientist - Machine learning AI   \n",
       "3  Data Scientist -Machine Learning with Python   \n",
       "4                                Data Scientist   \n",
       "5             Data Scientist - Engine Algorithm   \n",
       "6                Data Scientist - MIND Infotech   \n",
       "7         Data Scientist - Predictive Analytics   \n",
       "8                                Data Scientist   \n",
       "9           Data Scientist - Internet Jobs - II   \n",
       "\n",
       "                                            Location  \\\n",
       "0                     New Delhi, Bangalore/Bengaluru   \n",
       "1                         Noida, Bangalore/Bengaluru   \n",
       "2  Delhi / NCR, Bangalore/Bengaluru, Mumbai (All ...   \n",
       "3  Delhi / NCR, Noida, New Delhi, Gurgaon/Gurugra...   \n",
       "4        Pune, Gurgaon/Gurugram, Bangalore/Bengaluru   \n",
       "5  Delhi / NCR, Kolkata, Mumbai, Hyderabad/Secund...   \n",
       "6                                              Noida   \n",
       "7  Noida, Mumbai, Chandigarh, Hyderabad/Secundera...   \n",
       "8  Delhi / NCR, Bangalore/Bengaluru, Mumbai (All ...   \n",
       "9  Delhi / NCR, Bangalore/Bengaluru, Mumbai (All ...   \n",
       "\n",
       "                                        Name                              ex  \n",
       "0                    Boston Consulting Group                         2-5 Yrs  \n",
       "1                                        EXL                   Not disclosed  \n",
       "2                              Teq Analytics  New Delhi, Bangalore/Bengaluru  \n",
       "3                                    Genpact                        5-10 Yrs  \n",
       "4  SS Supply Chain Solutions Pvt. Ltd. (3SC)                   Not disclosed  \n",
       "5                               Primo Hiring      Noida, Bangalore/Bengaluru  \n",
       "6   MOTHERSONSUMI INFOTECH & DESIGNS LIMITED                   Not disclosed  \n",
       "7                               Confidential                   Not disclosed  \n",
       "8            Sydata Consulting India Pvt Ltd                         2-5 Yrs  \n",
       "9                             Jobs Territory                   Not disclosed  "
      ]
     },
     "execution_count": 94,
     "metadata": {},
     "output_type": "execute_result"
    }
   ],
   "source": [
    "at[['Title','Location','Name','ex']].head(10)"
   ]
  },
  {
   "cell_type": "markdown",
   "id": "73773ca8",
   "metadata": {},
   "source": [
    "# Q4: Scrape data of first 100 sunglasses listings on flipkart.com. You have to scrape four attributes:\n",
    "1. Brand\n",
    "2. Product Description\n",
    "3. Price\n",
    "The attributes which you have to scrape is ticked marked in the below image.\n",
    "To scrape\n",
    "To scrape the data you have to go through following steps:\n",
    "1. Go to Flipkart webpage by url : https://www.flipkart.com/\n",
    "2. Enter “sunglasses” in the search field where “search for products, brands and more” is written and\n",
    "click the search icon\n",
    "3. After that you will reach to the page having a lot of sunglasses. From this page you can scrap the\n",
    "required data as usual.\n",
    "4. After scraping data from the first page, go to the “Next” Button at the bottom other page , then\n",
    "click on it.\n",
    "5. Now scrape data from this page as usual\n",
    "6. Repeat this until you get data for 100 sunglasses.\n",
    "Note: That all of the above steps have to be done by coding only and not manually."
   ]
  },
  {
   "cell_type": "code",
   "execution_count": 51,
   "id": "3d88bd2d",
   "metadata": {},
   "outputs": [],
   "source": [
    "driver2=webdriver.Chrome(r'C:\\Users\\Vishal Manoj\\Downloads\\Chrome\\chromedriver.exe')"
   ]
  },
  {
   "cell_type": "code",
   "execution_count": 52,
   "id": "6b90401c",
   "metadata": {},
   "outputs": [],
   "source": [
    "url= 'https://www.flipkart.com/'\n",
    "driver2.get(url)"
   ]
  },
  {
   "cell_type": "code",
   "execution_count": 53,
   "id": "1f2f8131",
   "metadata": {},
   "outputs": [
    {
     "data": {
      "text/plain": [
       "[<selenium.webdriver.remote.webelement.WebElement (session=\"d0f74462f0441ba76eaf84f18b2c167f\", element=\"b48a2cfa-1a50-4ead-a2d7-0dfc89228ef9\")>]"
      ]
     },
     "execution_count": 53,
     "metadata": {},
     "output_type": "execute_result"
    }
   ],
   "source": [
    "from selenium.webdriver.common.by import By\n",
    "search_job=driver2.find_elements(By.CLASS_NAME,'_3704LK')\n",
    "search_job"
   ]
  },
  {
   "cell_type": "code",
   "execution_count": 54,
   "id": "c3f5db77",
   "metadata": {},
   "outputs": [],
   "source": [
    "search_job[0].send_keys('sunglasses')"
   ]
  },
  {
   "cell_type": "code",
   "execution_count": 55,
   "id": "562c0db8",
   "metadata": {},
   "outputs": [],
   "source": [
    "from selenium.webdriver.common.keys import Keys\n",
    "search_job[0].send_keys(Keys.ENTER)"
   ]
  },
  {
   "cell_type": "code",
   "execution_count": 60,
   "id": "450d9b43",
   "metadata": {},
   "outputs": [],
   "source": [
    "names=driver2.find_elements(By.XPATH,'//div[@class=\"_2WkVRV\"]')"
   ]
  },
  {
   "cell_type": "code",
   "execution_count": 61,
   "id": "523d0f73",
   "metadata": {},
   "outputs": [],
   "source": [
    "price=driver2.find_elements(By.XPATH,'//div[@class=\"_30jeq3\"]')"
   ]
  },
  {
   "cell_type": "code",
   "execution_count": 62,
   "id": "8db1cbc2",
   "metadata": {},
   "outputs": [],
   "source": [
    "n=[]\n",
    "p=[]\n",
    "for i in range (0,len(names)):\n",
    "    n.append(names[i].text)\n",
    "    p.append(price[i].text)"
   ]
  },
  {
   "cell_type": "code",
   "execution_count": 65,
   "id": "9a5cd726",
   "metadata": {},
   "outputs": [],
   "source": [
    "at=pd.DataFrame(list(zip(n,p)),\n",
    "               columns =['Name', 'Price'])"
   ]
  },
  {
   "cell_type": "code",
   "execution_count": 67,
   "id": "84fa131a",
   "metadata": {},
   "outputs": [
    {
     "data": {
      "text/plain": [
       "[<selenium.webdriver.remote.webelement.WebElement (session=\"d0f74462f0441ba76eaf84f18b2c167f\", element=\"b40304dc-7329-4a80-a9f8-e94f691e8d79\")>]"
      ]
     },
     "execution_count": 67,
     "metadata": {},
     "output_type": "execute_result"
    }
   ],
   "source": [
    "s=driver2.find_elements(By.XPATH,'/html/body/div[1]/div/div[3]/div[1]/div[2]/div[12]/div/div/nav/a[11]/span')\n",
    "s"
   ]
  },
  {
   "cell_type": "code",
   "execution_count": 68,
   "id": "dfc8ce9a",
   "metadata": {},
   "outputs": [],
   "source": [
    "s[0].click()"
   ]
  },
  {
   "cell_type": "code",
   "execution_count": 70,
   "id": "76683b14",
   "metadata": {},
   "outputs": [],
   "source": [
    "names1=driver2.find_elements(By.XPATH,'//div[@class=\"_2WkVRV\"]')"
   ]
  },
  {
   "cell_type": "code",
   "execution_count": 69,
   "id": "edaa6d99",
   "metadata": {},
   "outputs": [],
   "source": [
    "price1=driver2.find_elements(By.XPATH,'//div[@class=\"_30jeq3\"]')"
   ]
  },
  {
   "cell_type": "code",
   "execution_count": 71,
   "id": "df9028d3",
   "metadata": {},
   "outputs": [],
   "source": [
    "n=[]\n",
    "p=[]\n",
    "for i in range (0,len(names)):\n",
    "    n.append(names1[i].text)\n",
    "    p.append(price1[i].text)"
   ]
  },
  {
   "cell_type": "code",
   "execution_count": 72,
   "id": "9a179205",
   "metadata": {},
   "outputs": [
    {
     "data": {
      "text/plain": [
       "40"
      ]
     },
     "execution_count": 72,
     "metadata": {},
     "output_type": "execute_result"
    }
   ],
   "source": [
    "len(n)"
   ]
  },
  {
   "cell_type": "code",
   "execution_count": 73,
   "id": "478feb2d",
   "metadata": {},
   "outputs": [],
   "source": [
    "at1=pd.DataFrame(list(zip(n,p)),\n",
    "               columns =['Name', 'Price'])"
   ]
  },
  {
   "cell_type": "code",
   "execution_count": 75,
   "id": "2adc2226",
   "metadata": {},
   "outputs": [
    {
     "data": {
      "text/plain": [
       "[<selenium.webdriver.remote.webelement.WebElement (session=\"d0f74462f0441ba76eaf84f18b2c167f\", element=\"b40304dc-7329-4a80-a9f8-e94f691e8d79\")>]"
      ]
     },
     "execution_count": 75,
     "metadata": {},
     "output_type": "execute_result"
    }
   ],
   "source": [
    "si=driver2.find_elements(By.XPATH,'/html/body/div[1]/div/div[3]/div[1]/div[2]/div[12]/div/div/nav/a[12]/span')\n",
    "si"
   ]
  },
  {
   "cell_type": "code",
   "execution_count": 76,
   "id": "500c38ad",
   "metadata": {},
   "outputs": [],
   "source": [
    "si[0].click()"
   ]
  },
  {
   "cell_type": "code",
   "execution_count": 77,
   "id": "930995c7",
   "metadata": {},
   "outputs": [],
   "source": [
    "names2=driver2.find_elements(By.XPATH,'//a[@class=\"_2WkVRV\"]')"
   ]
  },
  {
   "cell_type": "code",
   "execution_count": 78,
   "id": "705f24c4",
   "metadata": {},
   "outputs": [],
   "source": [
    "price2=driver2.find_elements(By.XPATH,'//div[@class=\"_30jeq3\"]')"
   ]
  },
  {
   "cell_type": "code",
   "execution_count": 42,
   "id": "8f66a1b8",
   "metadata": {},
   "outputs": [],
   "source": [
    "n=[]\n",
    "p=[]\n",
    "for i in range (0, len(names2)):\n",
    "    n.append(names2[i].text)\n",
    "    p.append(price2[i].text)"
   ]
  },
  {
   "cell_type": "code",
   "execution_count": 79,
   "id": "d0bcc0a7",
   "metadata": {},
   "outputs": [],
   "source": [
    "at2=pd.DataFrame(list(zip(n,p)),\n",
    "               columns =['Name', 'Price'])"
   ]
  },
  {
   "cell_type": "code",
   "execution_count": 86,
   "id": "f5dc4198",
   "metadata": {},
   "outputs": [],
   "source": [
    "r=pd.concat([at,at1,at2], ignore_index='True').head(100)"
   ]
  },
  {
   "cell_type": "code",
   "execution_count": 87,
   "id": "ea69478e",
   "metadata": {},
   "outputs": [
    {
     "data": {
      "text/html": [
       "<div>\n",
       "<style scoped>\n",
       "    .dataframe tbody tr th:only-of-type {\n",
       "        vertical-align: middle;\n",
       "    }\n",
       "\n",
       "    .dataframe tbody tr th {\n",
       "        vertical-align: top;\n",
       "    }\n",
       "\n",
       "    .dataframe thead th {\n",
       "        text-align: right;\n",
       "    }\n",
       "</style>\n",
       "<table border=\"1\" class=\"dataframe\">\n",
       "  <thead>\n",
       "    <tr style=\"text-align: right;\">\n",
       "      <th></th>\n",
       "      <th>Name</th>\n",
       "      <th>Price</th>\n",
       "    </tr>\n",
       "  </thead>\n",
       "  <tbody>\n",
       "    <tr>\n",
       "      <th>0</th>\n",
       "      <td>GANSTA</td>\n",
       "      <td>₹314</td>\n",
       "    </tr>\n",
       "    <tr>\n",
       "      <th>1</th>\n",
       "      <td>VINCENT CHASE</td>\n",
       "      <td>₹649</td>\n",
       "    </tr>\n",
       "    <tr>\n",
       "      <th>2</th>\n",
       "      <td>Elligator</td>\n",
       "      <td>₹315</td>\n",
       "    </tr>\n",
       "    <tr>\n",
       "      <th>3</th>\n",
       "      <td>SRPM</td>\n",
       "      <td>₹224</td>\n",
       "    </tr>\n",
       "    <tr>\n",
       "      <th>4</th>\n",
       "      <td>Fastrack</td>\n",
       "      <td>₹799</td>\n",
       "    </tr>\n",
       "    <tr>\n",
       "      <th>...</th>\n",
       "      <td>...</td>\n",
       "      <td>...</td>\n",
       "    </tr>\n",
       "    <tr>\n",
       "      <th>95</th>\n",
       "      <td>ROYAL SON</td>\n",
       "      <td>₹759</td>\n",
       "    </tr>\n",
       "    <tr>\n",
       "      <th>96</th>\n",
       "      <td>Fastrack</td>\n",
       "      <td>₹719</td>\n",
       "    </tr>\n",
       "    <tr>\n",
       "      <th>97</th>\n",
       "      <td>Fastrack</td>\n",
       "      <td>₹899</td>\n",
       "    </tr>\n",
       "    <tr>\n",
       "      <th>98</th>\n",
       "      <td>Fastrack</td>\n",
       "      <td>₹721</td>\n",
       "    </tr>\n",
       "    <tr>\n",
       "      <th>99</th>\n",
       "      <td>ROYAL SON</td>\n",
       "      <td>₹664</td>\n",
       "    </tr>\n",
       "  </tbody>\n",
       "</table>\n",
       "<p>100 rows × 2 columns</p>\n",
       "</div>"
      ],
      "text/plain": [
       "             Name Price\n",
       "0          GANSTA  ₹314\n",
       "1   VINCENT CHASE  ₹649\n",
       "2       Elligator  ₹315\n",
       "3            SRPM  ₹224\n",
       "4        Fastrack  ₹799\n",
       "..            ...   ...\n",
       "95      ROYAL SON  ₹759\n",
       "96       Fastrack  ₹719\n",
       "97       Fastrack  ₹899\n",
       "98       Fastrack  ₹721\n",
       "99      ROYAL SON  ₹664\n",
       "\n",
       "[100 rows x 2 columns]"
      ]
     },
     "execution_count": 87,
     "metadata": {},
     "output_type": "execute_result"
    }
   ],
   "source": [
    "r"
   ]
  },
  {
   "cell_type": "markdown",
   "id": "b823efb4",
   "metadata": {},
   "source": [
    "# Q5: Scrape 100 reviews data from flipkart.com for iphone11 phone.\n",
    "This task will be done in following steps:\n",
    "1. First get the webpage https://www.flipkart.com/\n",
    "2. Enter “iphone 11” in “Search” field .\n",
    "3. Then click the search button.\n",
    "You will reach to the below shown webpage ."
   ]
  },
  {
   "cell_type": "code",
   "execution_count": 143,
   "id": "d7c7456b",
   "metadata": {},
   "outputs": [],
   "source": [
    "driver=webdriver.Chrome(r'C:\\Users\\Vishal Manoj\\Downloads\\Chrome\\chromedriver.exe')"
   ]
  },
  {
   "cell_type": "code",
   "execution_count": 144,
   "id": "c0ab67ef",
   "metadata": {},
   "outputs": [],
   "source": [
    "from selenium.webdriver.common.by import By"
   ]
  },
  {
   "cell_type": "code",
   "execution_count": 50,
   "id": "f071e125",
   "metadata": {},
   "outputs": [],
   "source": [
    "url= 'https://www.flipkart.com/'\n",
    "driver.get(url)"
   ]
  },
  {
   "cell_type": "code",
   "execution_count": 51,
   "id": "da0fe4e0",
   "metadata": {},
   "outputs": [
    {
     "data": {
      "text/plain": [
       "[<selenium.webdriver.remote.webelement.WebElement (session=\"594f396ad8fcb9fe2637c1236da5b229\", element=\"b938032a-f047-419a-870b-8d5be37e34ed\")>]"
      ]
     },
     "execution_count": 51,
     "metadata": {},
     "output_type": "execute_result"
    }
   ],
   "source": [
    "search_job=driver.find_elements(By.CLASS_NAME,'_3704LK')\n",
    "search_job"
   ]
  },
  {
   "cell_type": "code",
   "execution_count": 52,
   "id": "3e84fc0a",
   "metadata": {},
   "outputs": [],
   "source": [
    "search_job[0].send_keys('iphone 11')"
   ]
  },
  {
   "cell_type": "code",
   "execution_count": 53,
   "id": "d935dc25",
   "metadata": {},
   "outputs": [],
   "source": [
    "from selenium.webdriver.common.keys import Keys\n",
    "search_job[0].send_keys(Keys.ENTER)"
   ]
  },
  {
   "cell_type": "code",
   "execution_count": 12,
   "id": "560f8170",
   "metadata": {},
   "outputs": [],
   "source": [
    "names=driver.find_elements(By.XPATH,'//div[@class=\"_4rR01T\"]')"
   ]
  },
  {
   "cell_type": "code",
   "execution_count": 13,
   "id": "ea8d318d",
   "metadata": {},
   "outputs": [],
   "source": [
    "price=driver.find_elements(By.XPATH,'//div[@class=\"_30jeq3 _1_WHN1\"]')"
   ]
  },
  {
   "cell_type": "code",
   "execution_count": 14,
   "id": "2e593c11",
   "metadata": {},
   "outputs": [],
   "source": [
    "n=[]\n",
    "p=[]\n",
    "for i in range (0, len(names)):\n",
    "    n.append(names[i].text)\n",
    "    p.append(price[i].text)"
   ]
  },
  {
   "cell_type": "code",
   "execution_count": 15,
   "id": "0ab8e882",
   "metadata": {},
   "outputs": [],
   "source": [
    "at=pd.DataFrame(list(zip(n,p)),\n",
    "               columns =['Name', 'Price'])"
   ]
  },
  {
   "cell_type": "code",
   "execution_count": 16,
   "id": "13cd1306",
   "metadata": {},
   "outputs": [
    {
     "data": {
      "text/html": [
       "<div>\n",
       "<style scoped>\n",
       "    .dataframe tbody tr th:only-of-type {\n",
       "        vertical-align: middle;\n",
       "    }\n",
       "\n",
       "    .dataframe tbody tr th {\n",
       "        vertical-align: top;\n",
       "    }\n",
       "\n",
       "    .dataframe thead th {\n",
       "        text-align: right;\n",
       "    }\n",
       "</style>\n",
       "<table border=\"1\" class=\"dataframe\">\n",
       "  <thead>\n",
       "    <tr style=\"text-align: right;\">\n",
       "      <th></th>\n",
       "      <th>Name</th>\n",
       "      <th>Price</th>\n",
       "    </tr>\n",
       "  </thead>\n",
       "  <tbody>\n",
       "    <tr>\n",
       "      <th>0</th>\n",
       "      <td>APPLE iPhone 11 (Black, 128 GB)</td>\n",
       "      <td>₹46,999</td>\n",
       "    </tr>\n",
       "    <tr>\n",
       "      <th>1</th>\n",
       "      <td>APPLE iPhone 11 (White, 128 GB)</td>\n",
       "      <td>₹46,999</td>\n",
       "    </tr>\n",
       "    <tr>\n",
       "      <th>2</th>\n",
       "      <td>APPLE iPhone 11 (White, 64 GB)</td>\n",
       "      <td>₹41,999</td>\n",
       "    </tr>\n",
       "    <tr>\n",
       "      <th>3</th>\n",
       "      <td>APPLE iPhone 11 (Purple, 128 GB)</td>\n",
       "      <td>₹46,999</td>\n",
       "    </tr>\n",
       "    <tr>\n",
       "      <th>4</th>\n",
       "      <td>APPLE iPhone 11 (Red, 64 GB)</td>\n",
       "      <td>₹41,999</td>\n",
       "    </tr>\n",
       "    <tr>\n",
       "      <th>5</th>\n",
       "      <td>APPLE iPhone 11 (Black, 64 GB)</td>\n",
       "      <td>₹41,999</td>\n",
       "    </tr>\n",
       "    <tr>\n",
       "      <th>6</th>\n",
       "      <td>APPLE iPhone 11 (Purple, 64 GB)</td>\n",
       "      <td>₹41,999</td>\n",
       "    </tr>\n",
       "    <tr>\n",
       "      <th>7</th>\n",
       "      <td>APPLE iPhone 11 (Yellow, 64 GB)</td>\n",
       "      <td>₹41,999</td>\n",
       "    </tr>\n",
       "    <tr>\n",
       "      <th>8</th>\n",
       "      <td>APPLE iPhone 11 (Red, 128 GB)</td>\n",
       "      <td>₹46,999</td>\n",
       "    </tr>\n",
       "    <tr>\n",
       "      <th>9</th>\n",
       "      <td>APPLE iPhone 11 (Yellow, 128 GB)</td>\n",
       "      <td>₹46,999</td>\n",
       "    </tr>\n",
       "    <tr>\n",
       "      <th>10</th>\n",
       "      <td>APPLE iPhone 11 (Green, 64 GB)</td>\n",
       "      <td>₹41,999</td>\n",
       "    </tr>\n",
       "    <tr>\n",
       "      <th>11</th>\n",
       "      <td>APPLE iPhone 11 (Green, 128 GB)</td>\n",
       "      <td>₹46,999</td>\n",
       "    </tr>\n",
       "    <tr>\n",
       "      <th>12</th>\n",
       "      <td>APPLE iPhone 6 (Space Grey, 16 GB)</td>\n",
       "      <td>₹52,000</td>\n",
       "    </tr>\n",
       "    <tr>\n",
       "      <th>13</th>\n",
       "      <td>Apple iPhone 11 (White, 64 GB) (Includes EarPo...</td>\n",
       "      <td>₹49,900</td>\n",
       "    </tr>\n",
       "    <tr>\n",
       "      <th>14</th>\n",
       "      <td>Apple iPhone 11 (Yellow, 128 GB) (Includes Ear...</td>\n",
       "      <td>₹54,900</td>\n",
       "    </tr>\n",
       "    <tr>\n",
       "      <th>15</th>\n",
       "      <td>Apple iPhone 11 (Green, 64 GB) (Includes EarPo...</td>\n",
       "      <td>₹49,900</td>\n",
       "    </tr>\n",
       "    <tr>\n",
       "      <th>16</th>\n",
       "      <td>APPLE iPhone 11 (Green, 256 GB)</td>\n",
       "      <td>₹64,900</td>\n",
       "    </tr>\n",
       "    <tr>\n",
       "      <th>17</th>\n",
       "      <td>Apple iPhone 11 (Red, 256 GB) (Includes EarPod...</td>\n",
       "      <td>₹64,900</td>\n",
       "    </tr>\n",
       "    <tr>\n",
       "      <th>18</th>\n",
       "      <td>Apple iPhone 11 (Yellow, 64 GB) (Includes EarP...</td>\n",
       "      <td>₹49,900</td>\n",
       "    </tr>\n",
       "    <tr>\n",
       "      <th>19</th>\n",
       "      <td>Apple iPhone 11 (Yellow, 256 GB) (Includes Ear...</td>\n",
       "      <td>₹64,900</td>\n",
       "    </tr>\n",
       "    <tr>\n",
       "      <th>20</th>\n",
       "      <td>Apple iPhone 11 (Green, 128 GB) (Includes EarP...</td>\n",
       "      <td>₹54,900</td>\n",
       "    </tr>\n",
       "    <tr>\n",
       "      <th>21</th>\n",
       "      <td>Apple iPhone 11 (Black, 64 GB) (Includes EarPo...</td>\n",
       "      <td>₹49,900</td>\n",
       "    </tr>\n",
       "    <tr>\n",
       "      <th>22</th>\n",
       "      <td>Apple iPhone 11 (Red, 64 GB) (Includes EarPods...</td>\n",
       "      <td>₹49,900</td>\n",
       "    </tr>\n",
       "    <tr>\n",
       "      <th>23</th>\n",
       "      <td>Apple iPhone 11 (White, 256 GB) (Includes EarP...</td>\n",
       "      <td>₹64,900</td>\n",
       "    </tr>\n",
       "  </tbody>\n",
       "</table>\n",
       "</div>"
      ],
      "text/plain": [
       "                                                 Name    Price\n",
       "0                     APPLE iPhone 11 (Black, 128 GB)  ₹46,999\n",
       "1                     APPLE iPhone 11 (White, 128 GB)  ₹46,999\n",
       "2                      APPLE iPhone 11 (White, 64 GB)  ₹41,999\n",
       "3                    APPLE iPhone 11 (Purple, 128 GB)  ₹46,999\n",
       "4                        APPLE iPhone 11 (Red, 64 GB)  ₹41,999\n",
       "5                      APPLE iPhone 11 (Black, 64 GB)  ₹41,999\n",
       "6                     APPLE iPhone 11 (Purple, 64 GB)  ₹41,999\n",
       "7                     APPLE iPhone 11 (Yellow, 64 GB)  ₹41,999\n",
       "8                       APPLE iPhone 11 (Red, 128 GB)  ₹46,999\n",
       "9                    APPLE iPhone 11 (Yellow, 128 GB)  ₹46,999\n",
       "10                     APPLE iPhone 11 (Green, 64 GB)  ₹41,999\n",
       "11                    APPLE iPhone 11 (Green, 128 GB)  ₹46,999\n",
       "12                 APPLE iPhone 6 (Space Grey, 16 GB)  ₹52,000\n",
       "13  Apple iPhone 11 (White, 64 GB) (Includes EarPo...  ₹49,900\n",
       "14  Apple iPhone 11 (Yellow, 128 GB) (Includes Ear...  ₹54,900\n",
       "15  Apple iPhone 11 (Green, 64 GB) (Includes EarPo...  ₹49,900\n",
       "16                    APPLE iPhone 11 (Green, 256 GB)  ₹64,900\n",
       "17  Apple iPhone 11 (Red, 256 GB) (Includes EarPod...  ₹64,900\n",
       "18  Apple iPhone 11 (Yellow, 64 GB) (Includes EarP...  ₹49,900\n",
       "19  Apple iPhone 11 (Yellow, 256 GB) (Includes Ear...  ₹64,900\n",
       "20  Apple iPhone 11 (Green, 128 GB) (Includes EarP...  ₹54,900\n",
       "21  Apple iPhone 11 (Black, 64 GB) (Includes EarPo...  ₹49,900\n",
       "22  Apple iPhone 11 (Red, 64 GB) (Includes EarPods...  ₹49,900\n",
       "23  Apple iPhone 11 (White, 256 GB) (Includes EarP...  ₹64,900"
      ]
     },
     "execution_count": 16,
     "metadata": {},
     "output_type": "execute_result"
    }
   ],
   "source": [
    "at"
   ]
  },
  {
   "cell_type": "raw",
   "id": "740001b9",
   "metadata": {},
   "source": [
    "This is just excercise"
   ]
  },
  {
   "cell_type": "code",
   "execution_count": 145,
   "id": "d8e82ec8",
   "metadata": {},
   "outputs": [],
   "source": [
    "url= 'https://www.flipkart.com/apple-iphone-11-black-128-gb/p/itm8244e8d955aba?pid=MOBFWQ6BKRYBP5X8&lid=LSTMOBFWQ6BKRYBP5X8HS0EXP&marketplace=FLIPKART&q=iphone+11&store=tyy%2F4io&srno=s_1_1&otracker=search&otracker1=search&fm=organic&iid=a3db6086-050d-4b5a-bf18-7c3af0c020ab.MOBFWQ6BKRYBP5X8.SEARCH&ppt=hp&ppn=homepage&ssid=t58i1a4pxc0000001657113140442&qH=f6cdfdaa9f3c23f3'\n",
    "driver.get(url)"
   ]
  },
  {
   "cell_type": "code",
   "execution_count": 153,
   "id": "90e82cc2",
   "metadata": {},
   "outputs": [
    {
     "data": {
      "text/plain": [
       "[<selenium.webdriver.remote.webelement.WebElement (session=\"8f7dfddc5a30c405f6ae66d6e2263ca0\", element=\"e806f0d4-ac54-4d18-a39c-2dcff6b9b9b8\")>]"
      ]
     },
     "execution_count": 153,
     "metadata": {},
     "output_type": "execute_result"
    }
   ],
   "source": [
    "si=driver.find_elements(By.XPATH,'/html/body/div[1]/div/div[3]/div[1]/div[2]/div[2]/div/div[2]/div/div/span[2]/span/span[1]')\n",
    "si"
   ]
  },
  {
   "cell_type": "code",
   "execution_count": 154,
   "id": "b3525d28",
   "metadata": {},
   "outputs": [],
   "source": [
    "si[0].click()"
   ]
  },
  {
   "cell_type": "code",
   "execution_count": 155,
   "id": "bdc07855",
   "metadata": {},
   "outputs": [
    {
     "data": {
      "text/plain": [
       "[<selenium.webdriver.remote.webelement.WebElement (session=\"8f7dfddc5a30c405f6ae66d6e2263ca0\", element=\"7376a760-afe1-4d44-9e17-47a22710c6b1\")>]"
      ]
     },
     "execution_count": 155,
     "metadata": {},
     "output_type": "execute_result"
    }
   ],
   "source": [
    "sic=driver.find_elements(By.XPATH,'/html/body/div[1]/div/div[3]/div[1]/div[2]/div[9]/div[5]/div/a/div/span')\n",
    "sic"
   ]
  },
  {
   "cell_type": "code",
   "execution_count": 156,
   "id": "fcae17dc",
   "metadata": {},
   "outputs": [],
   "source": [
    "sic[0].click()"
   ]
  },
  {
   "cell_type": "code",
   "execution_count": 157,
   "id": "9b534da9",
   "metadata": {},
   "outputs": [],
   "source": [
    "names1=driver.find_elements(By.XPATH,'//p[@class=\"_2-N8zT\"]')\n",
    "rates=driver.find_elements(By.XPATH,'//div[@class=\"_3LWZlK _1BLPMq\"]')"
   ]
  },
  {
   "cell_type": "code",
   "execution_count": 158,
   "id": "db75af47",
   "metadata": {},
   "outputs": [],
   "source": [
    "fullsum=driver.find_elements(By.XPATH,'//div[@class=\"\"]')"
   ]
  },
  {
   "cell_type": "code",
   "execution_count": 159,
   "id": "3c6ffb10",
   "metadata": {},
   "outputs": [
    {
     "data": {
      "text/plain": [
       "'5'"
      ]
     },
     "execution_count": 159,
     "metadata": {},
     "output_type": "execute_result"
    }
   ],
   "source": [
    "rates[0].text"
   ]
  },
  {
   "cell_type": "code",
   "execution_count": 160,
   "id": "24d57741",
   "metadata": {},
   "outputs": [
    {
     "data": {
      "text/plain": [
       "'Fabulous!'"
      ]
     },
     "execution_count": 160,
     "metadata": {},
     "output_type": "execute_result"
    }
   ],
   "source": [
    "names1[5].text"
   ]
  },
  {
   "cell_type": "code",
   "execution_count": 161,
   "id": "238eb9af",
   "metadata": {},
   "outputs": [],
   "source": [
    "r=[]\n",
    "n=[]\n",
    "f=[]\n",
    "for i in range (0, 10):\n",
    "    r.append(names1[i].text)\n",
    "    n.append(rates[i].text)\n",
    "    f.append(fullsum[i].text)"
   ]
  },
  {
   "cell_type": "code",
   "execution_count": 162,
   "id": "adb8bf5a",
   "metadata": {},
   "outputs": [
    {
     "data": {
      "text/plain": [
       "[<selenium.webdriver.remote.webelement.WebElement (session=\"8f7dfddc5a30c405f6ae66d6e2263ca0\", element=\"750e0230-791e-45d0-bc9b-89435e26dc26\")>]"
      ]
     },
     "execution_count": 162,
     "metadata": {},
     "output_type": "execute_result"
    }
   ],
   "source": [
    "sick1=driver.find_elements(By.XPATH,'/html/body/div[1]/div/div[3]/div/div/div[2]/div[13]/div/div/nav/a[2]')\n",
    "sick1"
   ]
  },
  {
   "cell_type": "code",
   "execution_count": 163,
   "id": "72dbce9d",
   "metadata": {},
   "outputs": [],
   "source": [
    "sick1[0].click()"
   ]
  },
  {
   "cell_type": "code",
   "execution_count": 164,
   "id": "7a2dffbb",
   "metadata": {},
   "outputs": [],
   "source": [
    "names2=driver.find_elements(By.XPATH,'//p[@class=\"_2-N8zT\"]')\n",
    "rates1=driver.find_elements(By.XPATH,'//div[@class=\"_3LWZlK _1BLPMq\"]')\n",
    "fullsum1=driver.find_elements(By.XPATH,'//div[@class=\"\"]')"
   ]
  },
  {
   "cell_type": "code",
   "execution_count": 165,
   "id": "e60c14e1",
   "metadata": {},
   "outputs": [
    {
     "data": {
      "text/plain": [
       "'Perfect product!'"
      ]
     },
     "execution_count": 165,
     "metadata": {},
     "output_type": "execute_result"
    }
   ],
   "source": [
    "names2[0].text"
   ]
  },
  {
   "cell_type": "code",
   "execution_count": 166,
   "id": "a0170596",
   "metadata": {},
   "outputs": [],
   "source": [
    "for i in range (0, 10):\n",
    "    r.append(names2[i].text)\n",
    "    n.append(rates1[i].text)\n",
    "    f.append(fullsum1[i].text)"
   ]
  },
  {
   "cell_type": "code",
   "execution_count": 167,
   "id": "e55ca838",
   "metadata": {},
   "outputs": [
    {
     "data": {
      "text/plain": [
       "20"
      ]
     },
     "execution_count": 167,
     "metadata": {},
     "output_type": "execute_result"
    }
   ],
   "source": [
    "len(r)"
   ]
  },
  {
   "cell_type": "code",
   "execution_count": 168,
   "id": "d05ae4e2",
   "metadata": {},
   "outputs": [
    {
     "data": {
      "text/plain": [
       "[<selenium.webdriver.remote.webelement.WebElement (session=\"8f7dfddc5a30c405f6ae66d6e2263ca0\", element=\"2d28791a-fa67-46b7-a38e-33061bb5a23b\")>]"
      ]
     },
     "execution_count": 168,
     "metadata": {},
     "output_type": "execute_result"
    }
   ],
   "source": [
    "sick2=driver.find_elements(By.XPATH,'/html/body/div[1]/div/div[3]/div/div/div[2]/div[13]/div/div/nav/a[4]')\n",
    "sick2"
   ]
  },
  {
   "cell_type": "code",
   "execution_count": 169,
   "id": "48de8a27",
   "metadata": {},
   "outputs": [],
   "source": [
    "sick2[0].click()"
   ]
  },
  {
   "cell_type": "code",
   "execution_count": 170,
   "id": "c03c4451",
   "metadata": {},
   "outputs": [],
   "source": [
    "name2=driver.find_elements(By.XPATH,'//p[@class=\"_2-N8zT\"]')\n",
    "rates2=driver.find_elements(By.XPATH,'//div[@class=\"_3LWZlK _1BLPMq\"]')"
   ]
  },
  {
   "cell_type": "code",
   "execution_count": 171,
   "id": "4890bf9b",
   "metadata": {},
   "outputs": [],
   "source": [
    "fullsum2=driver.find_elements(By.XPATH,'//div[@class=\"\"]')"
   ]
  },
  {
   "cell_type": "code",
   "execution_count": 172,
   "id": "f55ab2d7",
   "metadata": {},
   "outputs": [
    {
     "data": {
      "text/plain": [
       "20"
      ]
     },
     "execution_count": 172,
     "metadata": {},
     "output_type": "execute_result"
    }
   ],
   "source": [
    "len(r)"
   ]
  },
  {
   "cell_type": "code",
   "execution_count": 173,
   "id": "4e5b5b04",
   "metadata": {},
   "outputs": [],
   "source": [
    "for i in range (0, 10):\n",
    "    r.append(name2[i].text)\n",
    "    n.append(rates2[i].text)\n",
    "    f.append(fullsum2[i].text)"
   ]
  },
  {
   "cell_type": "code",
   "execution_count": 174,
   "id": "b79240ad",
   "metadata": {},
   "outputs": [
    {
     "data": {
      "text/plain": [
       "30"
      ]
     },
     "execution_count": 174,
     "metadata": {},
     "output_type": "execute_result"
    }
   ],
   "source": [
    "len(n)"
   ]
  },
  {
   "cell_type": "code",
   "execution_count": 175,
   "id": "d97de00b",
   "metadata": {},
   "outputs": [
    {
     "data": {
      "text/plain": [
       "[<selenium.webdriver.remote.webelement.WebElement (session=\"8f7dfddc5a30c405f6ae66d6e2263ca0\", element=\"9034774a-0374-440c-a096-21c3247151b9\")>]"
      ]
     },
     "execution_count": 175,
     "metadata": {},
     "output_type": "execute_result"
    }
   ],
   "source": [
    "sick3=driver.find_elements(By.XPATH,'/html/body/div[1]/div/div[3]/div/div/div[2]/div[13]/div/div/nav/a[5]')\n",
    "sick3"
   ]
  },
  {
   "cell_type": "code",
   "execution_count": 176,
   "id": "95649f92",
   "metadata": {},
   "outputs": [],
   "source": [
    "sick3[0].click()"
   ]
  },
  {
   "cell_type": "code",
   "execution_count": 177,
   "id": "590f5722",
   "metadata": {},
   "outputs": [],
   "source": [
    "name3=driver.find_elements(By.XPATH,'//p[@class=\"_2-N8zT\"]')\n",
    "rates3=driver.find_elements(By.XPATH,'//div[@class=\"_3LWZlK _1BLPMq\"]')\n",
    "fullsum3=driver.find_elements(By.XPATH,'//div[@class=\"\"]')"
   ]
  },
  {
   "cell_type": "code",
   "execution_count": 178,
   "id": "526163da",
   "metadata": {},
   "outputs": [
    {
     "data": {
      "text/plain": [
       "'Perfect product!'"
      ]
     },
     "execution_count": 178,
     "metadata": {},
     "output_type": "execute_result"
    }
   ],
   "source": [
    "name3[0].text"
   ]
  },
  {
   "cell_type": "code",
   "execution_count": 179,
   "id": "2dc98e83",
   "metadata": {},
   "outputs": [],
   "source": [
    "for i in range (0, 10):\n",
    "    r.append(name3[i].text)\n",
    "    n.append(rates3[i].text)\n",
    "    f.append(fullsum3[i].text)"
   ]
  },
  {
   "cell_type": "code",
   "execution_count": 180,
   "id": "461760ad",
   "metadata": {},
   "outputs": [
    {
     "data": {
      "text/plain": [
       "40"
      ]
     },
     "execution_count": 180,
     "metadata": {},
     "output_type": "execute_result"
    }
   ],
   "source": [
    "len(r)"
   ]
  },
  {
   "cell_type": "code",
   "execution_count": 181,
   "id": "24a9a8bb",
   "metadata": {},
   "outputs": [],
   "source": [
    "at=pd.DataFrame(list(zip(n,r,f)),\n",
    "               columns =['Rating','Review','Full Description'])"
   ]
  },
  {
   "cell_type": "code",
   "execution_count": 183,
   "id": "acafe0b2",
   "metadata": {},
   "outputs": [
    {
     "data": {
      "text/plain": [
       "[<selenium.webdriver.remote.webelement.WebElement (session=\"8f7dfddc5a30c405f6ae66d6e2263ca0\", element=\"820284b2-b984-4d62-9a31-b0cc4c85eb3f\")>]"
      ]
     },
     "execution_count": 183,
     "metadata": {},
     "output_type": "execute_result"
    }
   ],
   "source": [
    "sick4=driver.find_elements(By.XPATH,'/html/body/div[1]/div/div[3]/div/div/div[2]/div[13]/div/div/nav/a[6]')\n",
    "sick4"
   ]
  },
  {
   "cell_type": "code",
   "execution_count": 184,
   "id": "85ea10d0",
   "metadata": {},
   "outputs": [],
   "source": [
    "sick4[0].click()"
   ]
  },
  {
   "cell_type": "code",
   "execution_count": 185,
   "id": "0c1af757",
   "metadata": {},
   "outputs": [],
   "source": [
    "name=driver.find_elements(By.XPATH,'//p[@class=\"_2-N8zT\"]')"
   ]
  },
  {
   "cell_type": "code",
   "execution_count": 186,
   "id": "c7c6d5d8",
   "metadata": {},
   "outputs": [],
   "source": [
    "rates=driver.find_elements(By.XPATH,'//div[@class=\"col _2wzgFH K0kLPL\"]')"
   ]
  },
  {
   "cell_type": "code",
   "execution_count": 187,
   "id": "61ba7044",
   "metadata": {},
   "outputs": [],
   "source": [
    "fullsum=driver.find_elements(By.XPATH,'//div[@class=\"\"]')"
   ]
  },
  {
   "cell_type": "code",
   "execution_count": 188,
   "id": "208a6ac2",
   "metadata": {
    "scrolled": true
   },
   "outputs": [
    {
     "name": "stdout",
     "output_type": "stream",
     "text": [
      "10 10 10\n"
     ]
    }
   ],
   "source": [
    "print(len(name),len(rates),len(fullsum))"
   ]
  },
  {
   "cell_type": "code",
   "execution_count": 195,
   "id": "ef50070f",
   "metadata": {},
   "outputs": [
    {
     "data": {
      "text/plain": [
       "'1'"
      ]
     },
     "execution_count": 195,
     "metadata": {},
     "output_type": "execute_result"
    }
   ],
   "source": [
    "rates[4].text[0]"
   ]
  },
  {
   "cell_type": "code",
   "execution_count": 196,
   "id": "1eaf53f4",
   "metadata": {},
   "outputs": [],
   "source": [
    "p=[]\n",
    "o=[]\n",
    "g=[]\n",
    "for a in range(0,len(name)):\n",
    "    p.append(rates[a].text[0])\n",
    "    o.append(name[a].text)\n",
    "    g.append(fullsum[a].text)"
   ]
  },
  {
   "cell_type": "code",
   "execution_count": 197,
   "id": "b1d131dc",
   "metadata": {},
   "outputs": [],
   "source": [
    "at1=pd.DataFrame(list(zip(p,o,g)),\n",
    "               columns =['Rating','Review','Full Description'])"
   ]
  },
  {
   "cell_type": "code",
   "execution_count": 214,
   "id": "b0019a93",
   "metadata": {},
   "outputs": [
    {
     "data": {
      "text/plain": [
       "[<selenium.webdriver.remote.webelement.WebElement (session=\"8f7dfddc5a30c405f6ae66d6e2263ca0\", element=\"f31acb7c-94a4-4bbe-9382-34f1cd595eea\")>]"
      ]
     },
     "execution_count": 214,
     "metadata": {},
     "output_type": "execute_result"
    }
   ],
   "source": [
    "sick5=driver.find_elements(By.XPATH,'/html/body/div[1]/div/div[3]/div/div/div[2]/div[13]/div/div/nav/a[7]')\n",
    "sick5"
   ]
  },
  {
   "cell_type": "code",
   "execution_count": 215,
   "id": "f4d5fd68",
   "metadata": {},
   "outputs": [],
   "source": [
    "sick5[0].click()"
   ]
  },
  {
   "cell_type": "code",
   "execution_count": 223,
   "id": "db738a66",
   "metadata": {},
   "outputs": [],
   "source": [
    "name5=driver.find_elements(By.XPATH,'//p[@class=\"_2-N8zT\"]')\n",
    "rates5=driver.find_elements(By.XPATH,'//div[@class=\"col _2wzgFH K0kLPL\"]')\n",
    "fullsum5=driver.find_elements(By.XPATH,'//div[@class=\"\"]')"
   ]
  },
  {
   "cell_type": "code",
   "execution_count": 224,
   "id": "c959dd7f",
   "metadata": {},
   "outputs": [
    {
     "name": "stdout",
     "output_type": "stream",
     "text": [
      "10 10 10\n"
     ]
    }
   ],
   "source": [
    "print (len(name5),len(rates5),len(fullsum5))"
   ]
  },
  {
   "cell_type": "code",
   "execution_count": 226,
   "id": "f1e32dfe",
   "metadata": {},
   "outputs": [],
   "source": [
    "p=[]\n",
    "o=[]\n",
    "g=[]\n",
    "for i in range (0, len(name5)):\n",
    "    p.append(name5[i].text)\n",
    "    o.append(rates5[i].text[0])\n",
    "    g.append(fullsum5[i].text)"
   ]
  },
  {
   "cell_type": "code",
   "execution_count": 227,
   "id": "c086bc25",
   "metadata": {},
   "outputs": [],
   "source": [
    "sick6=driver.find_elements(By.XPATH,'/html/body/div[1]/div/div[3]/div/div/div[2]/div[13]/div/div/nav/a[7]')"
   ]
  },
  {
   "cell_type": "code",
   "execution_count": 228,
   "id": "73c26ac7",
   "metadata": {},
   "outputs": [],
   "source": [
    "sick6[0].click()"
   ]
  },
  {
   "cell_type": "code",
   "execution_count": 232,
   "id": "2e62b096",
   "metadata": {},
   "outputs": [],
   "source": [
    "name6=driver.find_elements(By.XPATH,'//p[@class=\"_2-N8zT\"]')\n",
    "rates6=driver.find_elements(By.XPATH,'//div[@class=\"col _2wzgFH K0kLPL\"]')\n",
    "fullsum6=driver.find_elements(By.XPATH,'//div[@class=\"\"]')"
   ]
  },
  {
   "cell_type": "code",
   "execution_count": 233,
   "id": "60a4f956",
   "metadata": {},
   "outputs": [
    {
     "name": "stdout",
     "output_type": "stream",
     "text": [
      "10 10 10\n"
     ]
    }
   ],
   "source": [
    "print (len(name6),len(rates6),len(fullsum6))"
   ]
  },
  {
   "cell_type": "code",
   "execution_count": 235,
   "id": "7503d7c8",
   "metadata": {},
   "outputs": [
    {
     "data": {
      "text/plain": [
       "'4'"
      ]
     },
     "execution_count": 235,
     "metadata": {},
     "output_type": "execute_result"
    }
   ],
   "source": [
    "rates6[0].text[0]"
   ]
  },
  {
   "cell_type": "code",
   "execution_count": 236,
   "id": "f22f39e2",
   "metadata": {},
   "outputs": [],
   "source": [
    "for i in range (0,len(name6)):\n",
    "    p.append(name6[i].text)\n",
    "    o.append(rates6[i].text[0])\n",
    "    g.append(fullsum6[i].text)"
   ]
  },
  {
   "cell_type": "code",
   "execution_count": 237,
   "id": "1dff37a2",
   "metadata": {},
   "outputs": [
    {
     "data": {
      "text/plain": [
       "20"
      ]
     },
     "execution_count": 237,
     "metadata": {},
     "output_type": "execute_result"
    }
   ],
   "source": [
    "len(p)"
   ]
  },
  {
   "cell_type": "code",
   "execution_count": 238,
   "id": "f1414abc",
   "metadata": {},
   "outputs": [],
   "source": [
    "at2=pd.DataFrame(list(zip(o,p,g)),\n",
    "              columns =['Rating','Review','Full Description'])"
   ]
  },
  {
   "cell_type": "code",
   "execution_count": 240,
   "id": "735539e9",
   "metadata": {},
   "outputs": [],
   "source": [
    "sick7=driver.find_elements(By.XPATH,'/html/body/div[1]/div/div[3]/div/div/div[2]/div[13]/div/div/nav/a[7]')\n",
    "sick7[0].click()"
   ]
  },
  {
   "cell_type": "code",
   "execution_count": 241,
   "id": "43b1deb7",
   "metadata": {},
   "outputs": [],
   "source": [
    "name6=driver.find_elements(By.XPATH,'//p[@class=\"_2-N8zT\"]')\n",
    "rates6=driver.find_elements(By.XPATH,'//div[@class=\"_3LWZlK _1BLPMq\"]')\n",
    "fullsum6=driver.find_elements(By.XPATH,'//div[@class=\"\"]')"
   ]
  },
  {
   "cell_type": "code",
   "execution_count": 242,
   "id": "c42a3d2c",
   "metadata": {},
   "outputs": [],
   "source": [
    "rates61=driver.find_elements(By.XPATH,'//div[@class=\"_3LWZlK _1rdVr6 _1BLPMq\"]')"
   ]
  },
  {
   "cell_type": "code",
   "execution_count": 243,
   "id": "6c745788",
   "metadata": {},
   "outputs": [
    {
     "name": "stdout",
     "output_type": "stream",
     "text": [
      "10 10 10\n"
     ]
    }
   ],
   "source": [
    "print(len(name6),len(rates6),len(fullsum6))"
   ]
  },
  {
   "cell_type": "code",
   "execution_count": 247,
   "id": "cde55cb6",
   "metadata": {},
   "outputs": [],
   "source": [
    "p=[]\n",
    "o=[]\n",
    "g=[]\n",
    "for i in range (0, len(name6)):\n",
    "    p.append(rates6[i].text)\n",
    "    o.append(name6[i].text)\n",
    "    g.append(fullsum6[i].text)"
   ]
  },
  {
   "cell_type": "code",
   "execution_count": 248,
   "id": "53583dc4",
   "metadata": {},
   "outputs": [],
   "source": [
    "at3=pd.DataFrame(list(zip(p,o,g)),\n",
    "              columns =['Rating','Review','Full Description'])"
   ]
  },
  {
   "cell_type": "raw",
   "id": "e00102a1",
   "metadata": {},
   "source": [
    "THis is the maximum the flipkart page is showing only 7 pages of review"
   ]
  },
  {
   "cell_type": "code",
   "execution_count": 251,
   "id": "fb493dff",
   "metadata": {},
   "outputs": [],
   "source": [
    "sick8=driver.find_elements(By.XPATH,'/html/body/div[1]/div/div[3]/div/div/div[2]/div[13]/div/div/nav/a[7]')\n",
    "sick8[0].click()"
   ]
  },
  {
   "cell_type": "code",
   "execution_count": 252,
   "id": "ca97f120",
   "metadata": {},
   "outputs": [],
   "source": [
    "name8=driver.find_elements(By.XPATH,'//p[@class=\"_2-N8zT\"]')\n",
    "rates8=driver.find_elements(By.XPATH,'//div[@class=\"_3LWZlK _1BLPMq\"]')\n",
    "fullsum8=driver.find_elements(By.XPATH,'//div[@class=\"\"]')"
   ]
  },
  {
   "cell_type": "code",
   "execution_count": 253,
   "id": "e1d8262a",
   "metadata": {},
   "outputs": [
    {
     "name": "stdout",
     "output_type": "stream",
     "text": [
      "10 10 10\n"
     ]
    }
   ],
   "source": [
    "print(len(name6),len(rates6),len(fullsum6))"
   ]
  },
  {
   "cell_type": "code",
   "execution_count": 254,
   "id": "1f99e6ce",
   "metadata": {},
   "outputs": [],
   "source": [
    "p=[]\n",
    "o=[]\n",
    "g=[]\n",
    "for i in range (0, len(name6)):\n",
    "    p.append(rates8[i].text)\n",
    "    o.append(name8[i].text)\n",
    "    g.append(fullsum8[i].text)"
   ]
  },
  {
   "cell_type": "code",
   "execution_count": 255,
   "id": "db8674ac",
   "metadata": {},
   "outputs": [],
   "source": [
    "sick9=driver.find_elements(By.XPATH,'/html/body/div[1]/div/div[3]/div/div/div[2]/div[13]/div/div/nav/a[7]')\n",
    "sick9[0].click()"
   ]
  },
  {
   "cell_type": "code",
   "execution_count": 256,
   "id": "85f1f133",
   "metadata": {},
   "outputs": [],
   "source": [
    "name8=driver.find_elements(By.XPATH,'//p[@class=\"_2-N8zT\"]')\n",
    "rates8=driver.find_elements(By.XPATH,'//div[@class=\"_3LWZlK _1BLPMq\"]')\n",
    "fullsum8=driver.find_elements(By.XPATH,'//div[@class=\"\"]')"
   ]
  },
  {
   "cell_type": "code",
   "execution_count": 258,
   "id": "dd6a9ce9",
   "metadata": {},
   "outputs": [
    {
     "name": "stdout",
     "output_type": "stream",
     "text": [
      "10 10 10\n"
     ]
    }
   ],
   "source": [
    "print(len(name8),len(rates8),len(fullsum8))"
   ]
  },
  {
   "cell_type": "code",
   "execution_count": 259,
   "id": "f5311a4f",
   "metadata": {},
   "outputs": [],
   "source": [
    "for i in range (0, len(name6)):\n",
    "    p.append(rates8[i].text)\n",
    "    o.append(name8[i].text)\n",
    "    g.append(fullsum8[i].text)"
   ]
  },
  {
   "cell_type": "code",
   "execution_count": 260,
   "id": "3cdb8a10",
   "metadata": {},
   "outputs": [],
   "source": [
    "sick10=driver.find_elements(By.XPATH,'/html/body/div[1]/div/div[3]/div/div/div[2]/div[13]/div/div/nav/a[7]')\n",
    "sick10[0].click()"
   ]
  },
  {
   "cell_type": "code",
   "execution_count": 261,
   "id": "4ae05abc",
   "metadata": {},
   "outputs": [],
   "source": [
    "name8=driver.find_elements(By.XPATH,'//p[@class=\"_2-N8zT\"]')\n",
    "rates8=driver.find_elements(By.XPATH,'//div[@class=\"_3LWZlK _1BLPMq\"]')\n",
    "fullsum8=driver.find_elements(By.XPATH,'//div[@class=\"\"]')"
   ]
  },
  {
   "cell_type": "code",
   "execution_count": 263,
   "id": "3bbf9ae4",
   "metadata": {},
   "outputs": [
    {
     "data": {
      "text/plain": [
       "'Classy product'"
      ]
     },
     "execution_count": 263,
     "metadata": {},
     "output_type": "execute_result"
    }
   ],
   "source": [
    "name8[0].text"
   ]
  },
  {
   "cell_type": "code",
   "execution_count": 262,
   "id": "c80aa4aa",
   "metadata": {},
   "outputs": [],
   "source": [
    "for i in range (0, len(name6)):\n",
    "    p.append(rates8[i].text)\n",
    "    o.append(name8[i].text)\n",
    "    g.append(fullsum8[i].text)"
   ]
  },
  {
   "cell_type": "code",
   "execution_count": 264,
   "id": "48ff95c0",
   "metadata": {},
   "outputs": [],
   "source": [
    "at6=pd.DataFrame(list(zip(p,o,g)),\n",
    "              columns =['Rating','Review','Full Description'])"
   ]
  },
  {
   "cell_type": "code",
   "execution_count": 268,
   "id": "2f9998b8",
   "metadata": {},
   "outputs": [
    {
     "data": {
      "text/html": [
       "<div>\n",
       "<style scoped>\n",
       "    .dataframe tbody tr th:only-of-type {\n",
       "        vertical-align: middle;\n",
       "    }\n",
       "\n",
       "    .dataframe tbody tr th {\n",
       "        vertical-align: top;\n",
       "    }\n",
       "\n",
       "    .dataframe thead th {\n",
       "        text-align: right;\n",
       "    }\n",
       "</style>\n",
       "<table border=\"1\" class=\"dataframe\">\n",
       "  <thead>\n",
       "    <tr style=\"text-align: right;\">\n",
       "      <th></th>\n",
       "      <th>Rating</th>\n",
       "      <th>Review</th>\n",
       "      <th>Full Description</th>\n",
       "    </tr>\n",
       "  </thead>\n",
       "  <tbody>\n",
       "    <tr>\n",
       "      <th>0</th>\n",
       "      <td>5</td>\n",
       "      <td>Fabulous!</td>\n",
       "      <td>I purchased the iPhone 11 a month back. I must...</td>\n",
       "    </tr>\n",
       "    <tr>\n",
       "      <th>1</th>\n",
       "      <td>5</td>\n",
       "      <td>Mind-blowing purchase</td>\n",
       "      <td>Absolutely powerful gadget. Loved it’s look! S...</td>\n",
       "    </tr>\n",
       "    <tr>\n",
       "      <th>2</th>\n",
       "      <td>5</td>\n",
       "      <td>Awesome</td>\n",
       "      <td>Can’t beat the software and hardware integrati...</td>\n",
       "    </tr>\n",
       "    <tr>\n",
       "      <th>3</th>\n",
       "      <td>5</td>\n",
       "      <td>Terrific purchase</td>\n",
       "      <td>I use a Note10+ and have been using both iOS a...</td>\n",
       "    </tr>\n",
       "    <tr>\n",
       "      <th>4</th>\n",
       "      <td>5</td>\n",
       "      <td>Awesome</td>\n",
       "      <td>The phone is completely good\\nAs far as camera...</td>\n",
       "    </tr>\n",
       "    <tr>\n",
       "      <th>5</th>\n",
       "      <td>3</td>\n",
       "      <td>Decent product</td>\n",
       "      <td>Everything u ll like it when u use this iPhone...</td>\n",
       "    </tr>\n",
       "    <tr>\n",
       "      <th>6</th>\n",
       "      <td>5</td>\n",
       "      <td>Best in the market!</td>\n",
       "      <td>Really very nice... my dad gifted me really I ...</td>\n",
       "    </tr>\n",
       "    <tr>\n",
       "      <th>7</th>\n",
       "      <td>5</td>\n",
       "      <td>Mind-blowing purchase</td>\n",
       "      <td>Released in 2019\\nIn 2021 still the best in se...</td>\n",
       "    </tr>\n",
       "    <tr>\n",
       "      <th>8</th>\n",
       "      <td>5</td>\n",
       "      <td>Classy product</td>\n",
       "      <td>I got this phone for good price hence 5 star f...</td>\n",
       "    </tr>\n",
       "    <tr>\n",
       "      <th>9</th>\n",
       "      <td>4</td>\n",
       "      <td>Wonderful</td>\n",
       "      <td>I genuinely liked it. One of the best mobile p...</td>\n",
       "    </tr>\n",
       "    <tr>\n",
       "      <th>10</th>\n",
       "      <td>4</td>\n",
       "      <td>Good quality product</td>\n",
       "      <td>Awesome camera, smooth and fast UI, display is...</td>\n",
       "    </tr>\n",
       "    <tr>\n",
       "      <th>11</th>\n",
       "      <td>5</td>\n",
       "      <td>Fabulous!</td>\n",
       "      <td>Good product nice experience with Flipkart but...</td>\n",
       "    </tr>\n",
       "    <tr>\n",
       "      <th>12</th>\n",
       "      <td>4</td>\n",
       "      <td>Pretty good</td>\n",
       "      <td>I've used this phone for over a month now and ...</td>\n",
       "    </tr>\n",
       "    <tr>\n",
       "      <th>13</th>\n",
       "      <td>4</td>\n",
       "      <td>Good quality product</td>\n",
       "      <td>I was torn between the oneplus 8 pro and the i...</td>\n",
       "    </tr>\n",
       "    <tr>\n",
       "      <th>14</th>\n",
       "      <td>5</td>\n",
       "      <td>Mind-blowing purchase</td>\n",
       "      <td>Flipkart honoured on time delivery, I have use...</td>\n",
       "    </tr>\n",
       "    <tr>\n",
       "      <th>15</th>\n",
       "      <td>5</td>\n",
       "      <td>Worth every penny</td>\n",
       "      <td>iPhone is delivered on time. Display is great ...</td>\n",
       "    </tr>\n",
       "    <tr>\n",
       "      <th>16</th>\n",
       "      <td>5</td>\n",
       "      <td>Excellent</td>\n",
       "      <td>Seller - SuperComNet ( my trust in you has gro...</td>\n",
       "    </tr>\n",
       "    <tr>\n",
       "      <th>17</th>\n",
       "      <td>5</td>\n",
       "      <td>Mind-blowing purchase</td>\n",
       "      <td>i was confused between 11 and 11 pro. i was go...</td>\n",
       "    </tr>\n",
       "    <tr>\n",
       "      <th>18</th>\n",
       "      <td>5</td>\n",
       "      <td>Super!</td>\n",
       "      <td>It's a great phone. From camera to display eve...</td>\n",
       "    </tr>\n",
       "    <tr>\n",
       "      <th>19</th>\n",
       "      <td>5</td>\n",
       "      <td>Just wow!</td>\n",
       "      <td>Not mere a phone , Its more than that for fun ...</td>\n",
       "    </tr>\n",
       "    <tr>\n",
       "      <th>20</th>\n",
       "      <td>5</td>\n",
       "      <td>Classy product</td>\n",
       "      <td>Got my iPhone 11 today! It’s totally worth it ...</td>\n",
       "    </tr>\n",
       "    <tr>\n",
       "      <th>21</th>\n",
       "      <td>5</td>\n",
       "      <td>Great product</td>\n",
       "      <td>Great quality at not so great price, But worth...</td>\n",
       "    </tr>\n",
       "    <tr>\n",
       "      <th>22</th>\n",
       "      <td>5</td>\n",
       "      <td>Brilliant</td>\n",
       "      <td>Wow wow and wow, in 48k you will not get anyth...</td>\n",
       "    </tr>\n",
       "    <tr>\n",
       "      <th>23</th>\n",
       "      <td>5</td>\n",
       "      <td>Most Price worthy Iphone</td>\n",
       "      <td>Reviewing within 1st Month\\n\\n\\n1st Month Revi...</td>\n",
       "    </tr>\n",
       "    <tr>\n",
       "      <th>24</th>\n",
       "      <td>5</td>\n",
       "      <td>Excellent</td>\n",
       "      <td>Value for money product. This iphone 11 is rea...</td>\n",
       "    </tr>\n",
       "    <tr>\n",
       "      <th>25</th>\n",
       "      <td>5</td>\n",
       "      <td>Excellent</td>\n",
       "      <td>🤩🤩🤩🤩🤩🤩I loved the Phone.. Every time I pick up...</td>\n",
       "    </tr>\n",
       "    <tr>\n",
       "      <th>26</th>\n",
       "      <td>5</td>\n",
       "      <td>Worth every penny</td>\n",
       "      <td>I upgraded from one plus 6 to iPhone 11 and it...</td>\n",
       "    </tr>\n",
       "    <tr>\n",
       "      <th>27</th>\n",
       "      <td>5</td>\n",
       "      <td>Terrific purchase</td>\n",
       "      <td>Well , as we all know if its not an Iphone , i...</td>\n",
       "    </tr>\n",
       "    <tr>\n",
       "      <th>28</th>\n",
       "      <td>5</td>\n",
       "      <td>Best in the market!</td>\n",
       "      <td>The only thing i didnt like about the phone is...</td>\n",
       "    </tr>\n",
       "    <tr>\n",
       "      <th>29</th>\n",
       "      <td>5</td>\n",
       "      <td>Perfect product!</td>\n",
       "      <td>At time of writing this review this phone proc...</td>\n",
       "    </tr>\n",
       "  </tbody>\n",
       "</table>\n",
       "</div>"
      ],
      "text/plain": [
       "   Rating                    Review  \\\n",
       "0       5                 Fabulous!   \n",
       "1       5     Mind-blowing purchase   \n",
       "2       5                   Awesome   \n",
       "3       5         Terrific purchase   \n",
       "4       5                   Awesome   \n",
       "5       3            Decent product   \n",
       "6       5       Best in the market!   \n",
       "7       5     Mind-blowing purchase   \n",
       "8       5            Classy product   \n",
       "9       4                 Wonderful   \n",
       "10      4      Good quality product   \n",
       "11      5                 Fabulous!   \n",
       "12      4               Pretty good   \n",
       "13      4      Good quality product   \n",
       "14      5     Mind-blowing purchase   \n",
       "15      5         Worth every penny   \n",
       "16      5                 Excellent   \n",
       "17      5     Mind-blowing purchase   \n",
       "18      5                    Super!   \n",
       "19      5                 Just wow!   \n",
       "20      5            Classy product   \n",
       "21      5             Great product   \n",
       "22      5                 Brilliant   \n",
       "23      5  Most Price worthy Iphone   \n",
       "24      5                 Excellent   \n",
       "25      5                 Excellent   \n",
       "26      5         Worth every penny   \n",
       "27      5         Terrific purchase   \n",
       "28      5       Best in the market!   \n",
       "29      5          Perfect product!   \n",
       "\n",
       "                                     Full Description  \n",
       "0   I purchased the iPhone 11 a month back. I must...  \n",
       "1   Absolutely powerful gadget. Loved it’s look! S...  \n",
       "2   Can’t beat the software and hardware integrati...  \n",
       "3   I use a Note10+ and have been using both iOS a...  \n",
       "4   The phone is completely good\\nAs far as camera...  \n",
       "5   Everything u ll like it when u use this iPhone...  \n",
       "6   Really very nice... my dad gifted me really I ...  \n",
       "7   Released in 2019\\nIn 2021 still the best in se...  \n",
       "8   I got this phone for good price hence 5 star f...  \n",
       "9   I genuinely liked it. One of the best mobile p...  \n",
       "10  Awesome camera, smooth and fast UI, display is...  \n",
       "11  Good product nice experience with Flipkart but...  \n",
       "12  I've used this phone for over a month now and ...  \n",
       "13  I was torn between the oneplus 8 pro and the i...  \n",
       "14  Flipkart honoured on time delivery, I have use...  \n",
       "15  iPhone is delivered on time. Display is great ...  \n",
       "16  Seller - SuperComNet ( my trust in you has gro...  \n",
       "17  i was confused between 11 and 11 pro. i was go...  \n",
       "18  It's a great phone. From camera to display eve...  \n",
       "19  Not mere a phone , Its more than that for fun ...  \n",
       "20  Got my iPhone 11 today! It’s totally worth it ...  \n",
       "21  Great quality at not so great price, But worth...  \n",
       "22  Wow wow and wow, in 48k you will not get anyth...  \n",
       "23  Reviewing within 1st Month\\n\\n\\n1st Month Revi...  \n",
       "24  Value for money product. This iphone 11 is rea...  \n",
       "25  🤩🤩🤩🤩🤩🤩I loved the Phone.. Every time I pick up...  \n",
       "26  I upgraded from one plus 6 to iPhone 11 and it...  \n",
       "27  Well , as we all know if its not an Iphone , i...  \n",
       "28  The only thing i didnt like about the phone is...  \n",
       "29  At time of writing this review this phone proc...  "
      ]
     },
     "execution_count": 268,
     "metadata": {},
     "output_type": "execute_result"
    }
   ],
   "source": [
    "at6"
   ]
  },
  {
   "cell_type": "code",
   "execution_count": 273,
   "id": "f0e78591",
   "metadata": {},
   "outputs": [],
   "source": [
    "e=pd.concat([at,at1,at2,at3,at6],ignore_index=True)"
   ]
  },
  {
   "cell_type": "code",
   "execution_count": 275,
   "id": "92fd7a16",
   "metadata": {},
   "outputs": [
    {
     "data": {
      "text/html": [
       "<div>\n",
       "<style scoped>\n",
       "    .dataframe tbody tr th:only-of-type {\n",
       "        vertical-align: middle;\n",
       "    }\n",
       "\n",
       "    .dataframe tbody tr th {\n",
       "        vertical-align: top;\n",
       "    }\n",
       "\n",
       "    .dataframe thead th {\n",
       "        text-align: right;\n",
       "    }\n",
       "</style>\n",
       "<table border=\"1\" class=\"dataframe\">\n",
       "  <thead>\n",
       "    <tr style=\"text-align: right;\">\n",
       "      <th></th>\n",
       "      <th>Rating</th>\n",
       "      <th>Review</th>\n",
       "      <th>Full Description</th>\n",
       "    </tr>\n",
       "  </thead>\n",
       "  <tbody>\n",
       "    <tr>\n",
       "      <th>0</th>\n",
       "      <td>5</td>\n",
       "      <td>Simply awesome</td>\n",
       "      <td>Really satisfied with the Product I received.....</td>\n",
       "    </tr>\n",
       "    <tr>\n",
       "      <th>1</th>\n",
       "      <td>5</td>\n",
       "      <td>Perfect product!</td>\n",
       "      <td>Amazing phone with great cameras and better ba...</td>\n",
       "    </tr>\n",
       "    <tr>\n",
       "      <th>2</th>\n",
       "      <td>5</td>\n",
       "      <td>Best in the market!</td>\n",
       "      <td>Great iPhone very snappy experience as apple k...</td>\n",
       "    </tr>\n",
       "    <tr>\n",
       "      <th>3</th>\n",
       "      <td>5</td>\n",
       "      <td>Highly recommended</td>\n",
       "      <td>What a camera .....just awesome ..you can feel...</td>\n",
       "    </tr>\n",
       "    <tr>\n",
       "      <th>4</th>\n",
       "      <td>5</td>\n",
       "      <td>Worth every penny</td>\n",
       "      <td>Previously I was using one plus 3t it was a gr...</td>\n",
       "    </tr>\n",
       "    <tr>\n",
       "      <th>...</th>\n",
       "      <td>...</td>\n",
       "      <td>...</td>\n",
       "      <td>...</td>\n",
       "    </tr>\n",
       "    <tr>\n",
       "      <th>95</th>\n",
       "      <td>5</td>\n",
       "      <td>Worth every penny</td>\n",
       "      <td>iPhone is delivered on time. Display is great ...</td>\n",
       "    </tr>\n",
       "    <tr>\n",
       "      <th>96</th>\n",
       "      <td>5</td>\n",
       "      <td>Excellent</td>\n",
       "      <td>Seller - SuperComNet ( my trust in you has gro...</td>\n",
       "    </tr>\n",
       "    <tr>\n",
       "      <th>97</th>\n",
       "      <td>5</td>\n",
       "      <td>Mind-blowing purchase</td>\n",
       "      <td>i was confused between 11 and 11 pro. i was go...</td>\n",
       "    </tr>\n",
       "    <tr>\n",
       "      <th>98</th>\n",
       "      <td>5</td>\n",
       "      <td>Super!</td>\n",
       "      <td>It's a great phone. From camera to display eve...</td>\n",
       "    </tr>\n",
       "    <tr>\n",
       "      <th>99</th>\n",
       "      <td>5</td>\n",
       "      <td>Just wow!</td>\n",
       "      <td>Not mere a phone , Its more than that for fun ...</td>\n",
       "    </tr>\n",
       "  </tbody>\n",
       "</table>\n",
       "<p>100 rows × 3 columns</p>\n",
       "</div>"
      ],
      "text/plain": [
       "   Rating                 Review  \\\n",
       "0       5         Simply awesome   \n",
       "1       5       Perfect product!   \n",
       "2       5    Best in the market!   \n",
       "3       5     Highly recommended   \n",
       "4       5      Worth every penny   \n",
       "..    ...                    ...   \n",
       "95      5      Worth every penny   \n",
       "96      5              Excellent   \n",
       "97      5  Mind-blowing purchase   \n",
       "98      5                 Super!   \n",
       "99      5              Just wow!   \n",
       "\n",
       "                                     Full Description  \n",
       "0   Really satisfied with the Product I received.....  \n",
       "1   Amazing phone with great cameras and better ba...  \n",
       "2   Great iPhone very snappy experience as apple k...  \n",
       "3   What a camera .....just awesome ..you can feel...  \n",
       "4   Previously I was using one plus 3t it was a gr...  \n",
       "..                                                ...  \n",
       "95  iPhone is delivered on time. Display is great ...  \n",
       "96  Seller - SuperComNet ( my trust in you has gro...  \n",
       "97  i was confused between 11 and 11 pro. i was go...  \n",
       "98  It's a great phone. From camera to display eve...  \n",
       "99  Not mere a phone , Its more than that for fun ...  \n",
       "\n",
       "[100 rows x 3 columns]"
      ]
     },
     "execution_count": 275,
     "metadata": {},
     "output_type": "execute_result"
    }
   ],
   "source": [
    "e.head(100)"
   ]
  },
  {
   "cell_type": "markdown",
   "id": "4ed9d6a5",
   "metadata": {},
   "source": [
    "# Q6: Scrape data for first 100 sneakers you find when you visit flipkart.com and search for “sneakers” in the\n",
    "search field.\n",
    "You have to scrape 4 attributes of each sneaker:\n",
    "1. Brand\n",
    "2. Product Description\n",
    "3. Price\n",
    "As shown in the below image, you have to scrape the tick marked attributes."
   ]
  },
  {
   "cell_type": "code",
   "execution_count": 79,
   "id": "2fc25dd7",
   "metadata": {},
   "outputs": [],
   "source": [
    "from selenium.webdriver.common.by import By\n",
    "driver=webdriver.Chrome(r'C:\\Users\\Vishal Manoj\\Downloads\\Chrome\\chromedriver.exe')\n",
    "url= 'https://www.flipkart.com/'\n",
    "driver.get(url)\n",
    "search_job=driver.find_elements(By.CLASS_NAME,'_3704LK')\n",
    "search_job[0].send_keys('sneakers')\n",
    "from selenium.webdriver.common.keys import Keys\n",
    "search_job[0].send_keys(Keys.ENTER)"
   ]
  },
  {
   "cell_type": "code",
   "execution_count": 118,
   "id": "b3fe4ad8",
   "metadata": {},
   "outputs": [],
   "source": [
    "b=driver.find_elements(By.XPATH,'//div[@class=\"_2WkVRV\"]')\n",
    "p=driver.find_elements(By.XPATH,'//div[@class=\"_2B099V\"]')\n",
    "r=driver.find_elements(By.XPATH,'//div[@class=\"_30jeq3\"]')\n",
    "d=driver.find_elements(By.XPATH,'//div[@class=\"_30jeq3\"]')"
   ]
  },
  {
   "cell_type": "code",
   "execution_count": 119,
   "id": "4da78e1b",
   "metadata": {},
   "outputs": [
    {
     "name": "stdout",
     "output_type": "stream",
     "text": [
      "40 40 40 40\n"
     ]
    }
   ],
   "source": [
    "print(len(b), len(p), len(r), len(d))"
   ]
  },
  {
   "cell_type": "code",
   "execution_count": 122,
   "id": "2a7220f7",
   "metadata": {},
   "outputs": [],
   "source": [
    "g=[]\n",
    "j=[]\n",
    "m=[]\n",
    "n=[]\n",
    "for i in range (0,len(b)):\n",
    "    g.append(b[i].text)\n",
    "    j.append(p[i].text.split('\\n')[1])\n",
    "    m.append(r[i].text)\n",
    "    n.append(d[i].text)"
   ]
  },
  {
   "cell_type": "code",
   "execution_count": 123,
   "id": "c92a99c5",
   "metadata": {},
   "outputs": [
    {
     "name": "stdout",
     "output_type": "stream",
     "text": [
      "40 40 40 40\n"
     ]
    }
   ],
   "source": [
    "print(len(g), len(j), len(m), len(n))"
   ]
  },
  {
   "cell_type": "code",
   "execution_count": 125,
   "id": "0f4c0269",
   "metadata": {},
   "outputs": [],
   "source": [
    "s=driver.find_elements(By.XPATH,'/html/body/div[1]/div/div[3]/div[1]/div[2]/div[12]/div/div/nav/a[2]')\n",
    "s[0].click()"
   ]
  },
  {
   "cell_type": "code",
   "execution_count": 128,
   "id": "2412d254",
   "metadata": {},
   "outputs": [],
   "source": [
    "b=driver.find_elements(By.XPATH,'//div[@class=\"_2WkVRV\"]')\n",
    "p=driver.find_elements(By.XPATH,'//div[@class=\"_2B099V\"]')\n",
    "r=driver.find_elements(By.XPATH,'//div[@class=\"_30jeq3\"]')\n",
    "d=driver.find_elements(By.XPATH,'//div[@class=\"_30jeq3\"]')"
   ]
  },
  {
   "cell_type": "code",
   "execution_count": 129,
   "id": "f97775ea",
   "metadata": {},
   "outputs": [],
   "source": [
    "for i in range (0,len(b)):\n",
    "    g.append(b[i].text)\n",
    "    j.append(p[i].text.split('\\n')[1])\n",
    "    m.append(r[i].text)\n",
    "    n.append(d[i].text)"
   ]
  },
  {
   "cell_type": "code",
   "execution_count": 130,
   "id": "f3339b08",
   "metadata": {},
   "outputs": [
    {
     "name": "stdout",
     "output_type": "stream",
     "text": [
      "80 80 80 80\n"
     ]
    }
   ],
   "source": [
    "print(len(g), len(j), len(m), len(n))"
   ]
  },
  {
   "cell_type": "code",
   "execution_count": 131,
   "id": "87c1ae74",
   "metadata": {},
   "outputs": [],
   "source": [
    "si=driver.find_elements(By.XPATH,'/html/body/div[1]/div/div[3]/div[1]/div[2]/div[12]/div/div/nav/a[4]')\n",
    "si[0].click()"
   ]
  },
  {
   "cell_type": "code",
   "execution_count": 132,
   "id": "adb3f7c8",
   "metadata": {},
   "outputs": [],
   "source": [
    "b=driver.find_elements(By.XPATH,'//div[@class=\"_2WkVRV\"]')\n",
    "p=driver.find_elements(By.XPATH,'//div[@class=\"_2B099V\"]')\n",
    "r=driver.find_elements(By.XPATH,'//div[@class=\"_30jeq3\"]')\n",
    "d=driver.find_elements(By.XPATH,'//div[@class=\"_30jeq3\"]')"
   ]
  },
  {
   "cell_type": "code",
   "execution_count": 133,
   "id": "3f85a34d",
   "metadata": {},
   "outputs": [],
   "source": [
    "for i in range (0,len(b)):\n",
    "    g.append(b[i].text)\n",
    "    j.append(p[i].text.split('\\n')[1])\n",
    "    m.append(r[i].text)\n",
    "    n.append(d[i].text)"
   ]
  },
  {
   "cell_type": "code",
   "execution_count": 134,
   "id": "731d7ee1",
   "metadata": {},
   "outputs": [
    {
     "name": "stdout",
     "output_type": "stream",
     "text": [
      "120 120 120 120\n"
     ]
    }
   ],
   "source": [
    "print(len(g), len(j), len(m), len(n))"
   ]
  },
  {
   "cell_type": "code",
   "execution_count": 141,
   "id": "214f452f",
   "metadata": {},
   "outputs": [],
   "source": [
    "at3=pd.DataFrame(list(zip(g,j,m)),\n",
    "              columns =['Brand','Product Description','Price'])"
   ]
  },
  {
   "cell_type": "code",
   "execution_count": 142,
   "id": "c132b2b1",
   "metadata": {},
   "outputs": [
    {
     "data": {
      "text/html": [
       "<div>\n",
       "<style scoped>\n",
       "    .dataframe tbody tr th:only-of-type {\n",
       "        vertical-align: middle;\n",
       "    }\n",
       "\n",
       "    .dataframe tbody tr th {\n",
       "        vertical-align: top;\n",
       "    }\n",
       "\n",
       "    .dataframe thead th {\n",
       "        text-align: right;\n",
       "    }\n",
       "</style>\n",
       "<table border=\"1\" class=\"dataframe\">\n",
       "  <thead>\n",
       "    <tr style=\"text-align: right;\">\n",
       "      <th></th>\n",
       "      <th>Brand</th>\n",
       "      <th>Product Description</th>\n",
       "      <th>Price</th>\n",
       "    </tr>\n",
       "  </thead>\n",
       "  <tbody>\n",
       "    <tr>\n",
       "      <th>0</th>\n",
       "      <td>ZF - ALFIYA</td>\n",
       "      <td>Sneakers For Men</td>\n",
       "      <td>₹399</td>\n",
       "    </tr>\n",
       "    <tr>\n",
       "      <th>1</th>\n",
       "      <td>luxury fashion</td>\n",
       "      <td>luxury fashionable casual sneaker shoes Sneake...</td>\n",
       "      <td>₹455</td>\n",
       "    </tr>\n",
       "    <tr>\n",
       "      <th>2</th>\n",
       "      <td>BRUTON</td>\n",
       "      <td>Modern Trendy Sneakers Shoes Sneakers For Men</td>\n",
       "      <td>₹269</td>\n",
       "    </tr>\n",
       "    <tr>\n",
       "      <th>3</th>\n",
       "      <td>URBANBOX</td>\n",
       "      <td>Sneakers Sneakers For Men</td>\n",
       "      <td>₹198</td>\n",
       "    </tr>\n",
       "    <tr>\n",
       "      <th>4</th>\n",
       "      <td>Magnolia</td>\n",
       "      <td>Sneakers For Men</td>\n",
       "      <td>₹399</td>\n",
       "    </tr>\n",
       "    <tr>\n",
       "      <th>...</th>\n",
       "      <td>...</td>\n",
       "      <td>...</td>\n",
       "      <td>...</td>\n",
       "    </tr>\n",
       "    <tr>\n",
       "      <th>95</th>\n",
       "      <td>Navtrend</td>\n",
       "      <td>Sneakers For Men</td>\n",
       "      <td>₹455</td>\n",
       "    </tr>\n",
       "    <tr>\n",
       "      <th>96</th>\n",
       "      <td>India hub</td>\n",
       "      <td>Luxury Fashionable casual sneaker shoes Sneake...</td>\n",
       "      <td>₹397</td>\n",
       "    </tr>\n",
       "    <tr>\n",
       "      <th>97</th>\n",
       "      <td>Stinson</td>\n",
       "      <td>Sneakers For Men</td>\n",
       "      <td>₹229</td>\n",
       "    </tr>\n",
       "    <tr>\n",
       "      <th>98</th>\n",
       "      <td>T-ROCK</td>\n",
       "      <td>Stylish White Casual Sneakers shoes Men and Bo...</td>\n",
       "      <td>₹399</td>\n",
       "    </tr>\n",
       "    <tr>\n",
       "      <th>99</th>\n",
       "      <td>luxury fashion</td>\n",
       "      <td>Sneakers For Men</td>\n",
       "      <td>₹426</td>\n",
       "    </tr>\n",
       "  </tbody>\n",
       "</table>\n",
       "<p>100 rows × 3 columns</p>\n",
       "</div>"
      ],
      "text/plain": [
       "             Brand                                Product Description Price\n",
       "0      ZF - ALFIYA                                   Sneakers For Men  ₹399\n",
       "1   luxury fashion  luxury fashionable casual sneaker shoes Sneake...  ₹455\n",
       "2           BRUTON      Modern Trendy Sneakers Shoes Sneakers For Men  ₹269\n",
       "3         URBANBOX                          Sneakers Sneakers For Men  ₹198\n",
       "4         Magnolia                                   Sneakers For Men  ₹399\n",
       "..             ...                                                ...   ...\n",
       "95        Navtrend                                   Sneakers For Men  ₹455\n",
       "96       India hub  Luxury Fashionable casual sneaker shoes Sneake...  ₹397\n",
       "97         Stinson                                   Sneakers For Men  ₹229\n",
       "98          T-ROCK  Stylish White Casual Sneakers shoes Men and Bo...  ₹399\n",
       "99  luxury fashion                                   Sneakers For Men  ₹426\n",
       "\n",
       "[100 rows x 3 columns]"
      ]
     },
     "execution_count": 142,
     "metadata": {},
     "output_type": "execute_result"
    }
   ],
   "source": [
    "at3.head(100)"
   ]
  },
  {
   "cell_type": "code",
   "execution_count": null,
   "id": "1a649ecc",
   "metadata": {},
   "outputs": [],
   "source": []
  },
  {
   "cell_type": "markdown",
   "id": "0639b178",
   "metadata": {},
   "source": [
    "# Q7:Go to the link - https://www.myntra.com/shoes\n",
    "Set second Price filter and Color filter to “Black”, as shown in the below image.\n",
    "And then scrape First 100 shoes data you get. The data should include “Brand” of the shoes , Short Shoe\n",
    "description, price of the shoe as shown in the below image."
   ]
  },
  {
   "cell_type": "code",
   "execution_count": 2,
   "id": "5fcc8bdc",
   "metadata": {},
   "outputs": [],
   "source": [
    "from selenium.webdriver.common.by import By\n",
    "driver=webdriver.Chrome(r'C:\\Users\\Vishal Manoj\\Downloads\\Chrome\\chromedriver.exe')"
   ]
  },
  {
   "cell_type": "code",
   "execution_count": 3,
   "id": "e661879f",
   "metadata": {},
   "outputs": [],
   "source": [
    "url1= 'https://www.myntra.com/shoes'\n",
    "driver.get(url1)"
   ]
  },
  {
   "cell_type": "code",
   "execution_count": 37,
   "id": "e1eb9b5b",
   "metadata": {},
   "outputs": [],
   "source": [
    "b=driver.find_elements(By.XPATH,'//div[@class=\"product-productMetaInfo\"]')\n",
    "p=driver.find_elements(By.XPATH,'//div[@class=\"product-price\"]')"
   ]
  },
  {
   "cell_type": "code",
   "execution_count": 38,
   "id": "2cc1a88b",
   "metadata": {},
   "outputs": [
    {
     "data": {
      "text/plain": [
       "['Red Tape', 'Men Walking Shoes', 'Rs. 1349Rs. 5399(75% OFF)']"
      ]
     },
     "execution_count": 38,
     "metadata": {},
     "output_type": "execute_result"
    }
   ],
   "source": [
    "b[0].text.split('\\n')"
   ]
  },
  {
   "cell_type": "code",
   "execution_count": 39,
   "id": "bd56228e",
   "metadata": {},
   "outputs": [
    {
     "data": {
      "text/plain": [
       "50"
      ]
     },
     "execution_count": 39,
     "metadata": {},
     "output_type": "execute_result"
    }
   ],
   "source": [
    "len(p)"
   ]
  },
  {
   "cell_type": "code",
   "execution_count": 40,
   "id": "1e43209c",
   "metadata": {},
   "outputs": [
    {
     "data": {
      "text/plain": [
       "'7050'"
      ]
     },
     "execution_count": 40,
     "metadata": {},
     "output_type": "execute_result"
    }
   ],
   "source": [
    "p[2].text.split('Rs. ')[1]"
   ]
  },
  {
   "cell_type": "code",
   "execution_count": 41,
   "id": "dbd4e510",
   "metadata": {},
   "outputs": [],
   "source": [
    "br=[]\n",
    "o=[]\n",
    "r=[]\n",
    "for i in range (0,len(b)):\n",
    "    br.append(b[i].text.split('\\n')[0])\n",
    "    o.append(b[i].text.split('\\n')[1])\n",
    "    r.append(p[i].text.split('Rs. ')[1])"
   ]
  },
  {
   "cell_type": "code",
   "execution_count": 42,
   "id": "ab277eec",
   "metadata": {},
   "outputs": [],
   "source": [
    "y=driver.find_elements(By.XPATH,'/html/body/div[2]/div/div[1]/main/div[3]/div[2]/div/div[2]/section/div[2]/ul/li[3]/a')"
   ]
  },
  {
   "cell_type": "code",
   "execution_count": 43,
   "id": "64c6947d",
   "metadata": {},
   "outputs": [],
   "source": [
    "y[0].click()"
   ]
  },
  {
   "cell_type": "code",
   "execution_count": 44,
   "id": "d4fbbb41",
   "metadata": {},
   "outputs": [],
   "source": [
    "b1=driver.find_elements(By.XPATH,'//div[@class=\"product-productMetaInfo\"]')\n",
    "p1=driver.find_elements(By.XPATH,'//div[@class=\"product-price\"]')"
   ]
  },
  {
   "cell_type": "code",
   "execution_count": 46,
   "id": "d92b96d9",
   "metadata": {},
   "outputs": [],
   "source": [
    "for i in range (0,len(b1)):\n",
    "    br.append(b1[i].text.split('\\n')[0])\n",
    "    o.append(b1[i].text.split('\\n')[1])\n",
    "    r.append(p1[i].text.split('Rs. ')[1])"
   ]
  },
  {
   "cell_type": "code",
   "execution_count": 47,
   "id": "a3bc9b48",
   "metadata": {},
   "outputs": [],
   "source": [
    "ab=pd.DataFrame(list(zip(br,o,r)),\n",
    "              columns =['Brand','Product Description','Price'])"
   ]
  },
  {
   "cell_type": "code",
   "execution_count": 48,
   "id": "98270e5a",
   "metadata": {},
   "outputs": [
    {
     "data": {
      "text/html": [
       "<div>\n",
       "<style scoped>\n",
       "    .dataframe tbody tr th:only-of-type {\n",
       "        vertical-align: middle;\n",
       "    }\n",
       "\n",
       "    .dataframe tbody tr th {\n",
       "        vertical-align: top;\n",
       "    }\n",
       "\n",
       "    .dataframe thead th {\n",
       "        text-align: right;\n",
       "    }\n",
       "</style>\n",
       "<table border=\"1\" class=\"dataframe\">\n",
       "  <thead>\n",
       "    <tr style=\"text-align: right;\">\n",
       "      <th></th>\n",
       "      <th>Brand</th>\n",
       "      <th>Product Description</th>\n",
       "      <th>Price</th>\n",
       "    </tr>\n",
       "  </thead>\n",
       "  <tbody>\n",
       "    <tr>\n",
       "      <th>0</th>\n",
       "      <td>Red Tape</td>\n",
       "      <td>Men Walking Shoes</td>\n",
       "      <td>1349</td>\n",
       "    </tr>\n",
       "    <tr>\n",
       "      <th>1</th>\n",
       "      <td>Newfeel By Decathlon</td>\n",
       "      <td>Men Walking Shoes</td>\n",
       "      <td>899</td>\n",
       "    </tr>\n",
       "    <tr>\n",
       "      <th>2</th>\n",
       "      <td>Nike</td>\n",
       "      <td>Men Zoom W8 Running Shoes</td>\n",
       "      <td>7050</td>\n",
       "    </tr>\n",
       "    <tr>\n",
       "      <th>3</th>\n",
       "      <td>Red Tape</td>\n",
       "      <td>Women Sneakers</td>\n",
       "      <td>1199</td>\n",
       "    </tr>\n",
       "    <tr>\n",
       "      <th>4</th>\n",
       "      <td>ASIAN</td>\n",
       "      <td>Men Running Shoes</td>\n",
       "      <td>699</td>\n",
       "    </tr>\n",
       "    <tr>\n",
       "      <th>...</th>\n",
       "      <td>...</td>\n",
       "      <td>...</td>\n",
       "      <td>...</td>\n",
       "    </tr>\n",
       "    <tr>\n",
       "      <th>95</th>\n",
       "      <td>MENGLER</td>\n",
       "      <td>Men Walking Shoes</td>\n",
       "      <td>679</td>\n",
       "    </tr>\n",
       "    <tr>\n",
       "      <th>96</th>\n",
       "      <td>ALDO</td>\n",
       "      <td>Men Colourblocked Sneakers</td>\n",
       "      <td>5999</td>\n",
       "    </tr>\n",
       "    <tr>\n",
       "      <th>97</th>\n",
       "      <td>HIGHLANDER</td>\n",
       "      <td>Men Sneakers</td>\n",
       "      <td>895</td>\n",
       "    </tr>\n",
       "    <tr>\n",
       "      <th>98</th>\n",
       "      <td>Red Tape</td>\n",
       "      <td>Men Walking Shoes</td>\n",
       "      <td>1624</td>\n",
       "    </tr>\n",
       "    <tr>\n",
       "      <th>99</th>\n",
       "      <td>Nike</td>\n",
       "      <td>Women AZ PEGA38 Running Shoes</td>\n",
       "      <td>8495</td>\n",
       "    </tr>\n",
       "  </tbody>\n",
       "</table>\n",
       "<p>100 rows × 3 columns</p>\n",
       "</div>"
      ],
      "text/plain": [
       "                   Brand            Product Description Price\n",
       "0               Red Tape              Men Walking Shoes  1349\n",
       "1   Newfeel By Decathlon              Men Walking Shoes   899\n",
       "2                   Nike      Men Zoom W8 Running Shoes  7050\n",
       "3               Red Tape                 Women Sneakers  1199\n",
       "4                  ASIAN              Men Running Shoes   699\n",
       "..                   ...                            ...   ...\n",
       "95               MENGLER              Men Walking Shoes   679\n",
       "96                  ALDO     Men Colourblocked Sneakers  5999\n",
       "97            HIGHLANDER                   Men Sneakers   895\n",
       "98              Red Tape              Men Walking Shoes  1624\n",
       "99                  Nike  Women AZ PEGA38 Running Shoes  8495\n",
       "\n",
       "[100 rows x 3 columns]"
      ]
     },
     "execution_count": 48,
     "metadata": {},
     "output_type": "execute_result"
    }
   ],
   "source": [
    "ab"
   ]
  },
  {
   "cell_type": "code",
   "execution_count": null,
   "id": "8cef1b01",
   "metadata": {},
   "outputs": [],
   "source": []
  },
  {
   "cell_type": "code",
   "execution_count": null,
   "id": "730cb21f",
   "metadata": {},
   "outputs": [],
   "source": []
  },
  {
   "cell_type": "markdown",
   "id": "d42a4982",
   "metadata": {},
   "source": [
    "# Q8: Go to webpage https://www.amazon.in/\n",
    "Enter “Laptop” in the search field and then click the search icon.\n",
    "Then set CPU Type filter to “Intel Core i7” as shown in the below image:\n",
    "After setting the filters scrape first 10 laptops data. You have to scrape 3 attributesfor each laptop:\n",
    "1. Title\n",
    "2. Ratings\n",
    "3. Price"
   ]
  },
  {
   "cell_type": "code",
   "execution_count": 280,
   "id": "5c781eab",
   "metadata": {},
   "outputs": [],
   "source": [
    "from selenium.webdriver.common.by import By\n",
    "driver=webdriver.Chrome(r'C:\\Users\\Vishal Manoj\\Downloads\\Chrome\\chromedriver.exe')\n",
    "url= 'https://www.amazon.in/'\n",
    "driver.get(url)"
   ]
  },
  {
   "cell_type": "code",
   "execution_count": 281,
   "id": "f88a0378",
   "metadata": {},
   "outputs": [],
   "source": [
    "search_job=driver.find_elements(By.XPATH,'/html/body/div[1]/header/div/div[1]/div[2]/div/form/div[2]/div[1]/input')\n",
    "search_job[0].send_keys('Laptap')"
   ]
  },
  {
   "cell_type": "code",
   "execution_count": 282,
   "id": "40c333d9",
   "metadata": {},
   "outputs": [],
   "source": [
    "search=driver.find_elements(By.XPATH,'/html/body/div[1]/header/div/div[1]/div[2]/div/form/div[3]/div/span/input')"
   ]
  },
  {
   "cell_type": "code",
   "execution_count": 283,
   "id": "f9f1f5a7",
   "metadata": {},
   "outputs": [],
   "source": [
    "search[0].click()"
   ]
  },
  {
   "cell_type": "code",
   "execution_count": 284,
   "id": "23c8a5d5",
   "metadata": {},
   "outputs": [],
   "source": [
    "Choose=driver.find_elements(By.XPATH,'/html/body/div[1]/div[2]/div[1]/div[2]/div/div[3]/span/div[1]/div/div/div[6]/ul[2]/li[13]/span/a/span')"
   ]
  },
  {
   "cell_type": "code",
   "execution_count": 285,
   "id": "cc0e0455",
   "metadata": {},
   "outputs": [],
   "source": [
    "Choose[0].click()"
   ]
  },
  {
   "cell_type": "code",
   "execution_count": 292,
   "id": "99566b70",
   "metadata": {},
   "outputs": [],
   "source": [
    "n=driver.find_elements(By.XPATH,'//span[@class=\"a-size-medium a-color-base a-text-normal\"]')\n",
    "p=driver.find_elements(By.XPATH,'//span[@class=\"a-price-whole\"]')"
   ]
  },
  {
   "cell_type": "code",
   "execution_count": 376,
   "id": "302a14bf",
   "metadata": {},
   "outputs": [
    {
     "data": {
      "text/plain": [
       "24"
      ]
     },
     "execution_count": 376,
     "metadata": {},
     "output_type": "execute_result"
    }
   ],
   "source": [
    "len(n)"
   ]
  },
  {
   "cell_type": "code",
   "execution_count": 373,
   "id": "4917097c",
   "metadata": {},
   "outputs": [],
   "source": [
    "r=driver.find_elements(By.XPATH,'//a[@class=\"a-popover-trigger a-declarative\"]')"
   ]
  },
  {
   "cell_type": "code",
   "execution_count": 377,
   "id": "9fedf95f",
   "metadata": {},
   "outputs": [],
   "source": [
    "ra=[]\n",
    "for e in r:\n",
    "    ra.append(e.get_attribute('text'))"
   ]
  },
  {
   "cell_type": "code",
   "execution_count": 379,
   "id": "771832ca",
   "metadata": {},
   "outputs": [],
   "source": [
    "na=[]\n",
    "pr=[]\n",
    "ra=[]\n",
    "for i in range(0,10):\n",
    "    na.append(n[i].text)\n",
    "    pr.append(p[i].text)\n",
    "    ra.append(e.get_attribute('text'))"
   ]
  },
  {
   "cell_type": "code",
   "execution_count": 380,
   "id": "6d6a4a36",
   "metadata": {},
   "outputs": [],
   "source": [
    "a=pd.DataFrame(list(zip(na,ra,pr)),\n",
    "              columns =['Name','Rating','Price'])"
   ]
  },
  {
   "cell_type": "code",
   "execution_count": 381,
   "id": "f1e286c4",
   "metadata": {},
   "outputs": [
    {
     "data": {
      "text/html": [
       "<div>\n",
       "<style scoped>\n",
       "    .dataframe tbody tr th:only-of-type {\n",
       "        vertical-align: middle;\n",
       "    }\n",
       "\n",
       "    .dataframe tbody tr th {\n",
       "        vertical-align: top;\n",
       "    }\n",
       "\n",
       "    .dataframe thead th {\n",
       "        text-align: right;\n",
       "    }\n",
       "</style>\n",
       "<table border=\"1\" class=\"dataframe\">\n",
       "  <thead>\n",
       "    <tr style=\"text-align: right;\">\n",
       "      <th></th>\n",
       "      <th>Name</th>\n",
       "      <th>Rating</th>\n",
       "      <th>Price</th>\n",
       "    </tr>\n",
       "  </thead>\n",
       "  <tbody>\n",
       "    <tr>\n",
       "      <th>0</th>\n",
       "      <td>Hp Pavilion X360 11Th Gen Intel Core I7 14 Inc...</td>\n",
       "      <td>5.0 out of 5 stars</td>\n",
       "      <td>83,603</td>\n",
       "    </tr>\n",
       "    <tr>\n",
       "      <th>1</th>\n",
       "      <td>Lenovo ThinkBook 15 Intel 11th Gen Core i7 15....</td>\n",
       "      <td>5.0 out of 5 stars</td>\n",
       "      <td>86,990</td>\n",
       "    </tr>\n",
       "    <tr>\n",
       "      <th>2</th>\n",
       "      <td>Lenovo IdeaPad Slim 5 Pro Intel Core i7 11th G...</td>\n",
       "      <td>5.0 out of 5 stars</td>\n",
       "      <td>75,203</td>\n",
       "    </tr>\n",
       "    <tr>\n",
       "      <th>3</th>\n",
       "      <td>ASUS TUF Gaming F15 (2021), 15.6\" (39.62 cms) ...</td>\n",
       "      <td>5.0 out of 5 stars</td>\n",
       "      <td>89,990</td>\n",
       "    </tr>\n",
       "    <tr>\n",
       "      <th>4</th>\n",
       "      <td>HP Pavilion 14 12th Gen Intel Core i7 16GB SDR...</td>\n",
       "      <td>5.0 out of 5 stars</td>\n",
       "      <td>86,990</td>\n",
       "    </tr>\n",
       "    <tr>\n",
       "      <th>5</th>\n",
       "      <td>ASUS Vivobook 15, 15.6-inch (39.62 cms) FHD, I...</td>\n",
       "      <td>5.0 out of 5 stars</td>\n",
       "      <td>57,890</td>\n",
       "    </tr>\n",
       "    <tr>\n",
       "      <th>6</th>\n",
       "      <td>Lenovo IdeaPad Flex 5 Intel Core i7 11th Gen 1...</td>\n",
       "      <td>5.0 out of 5 stars</td>\n",
       "      <td>80,490</td>\n",
       "    </tr>\n",
       "    <tr>\n",
       "      <th>7</th>\n",
       "      <td>HP Envy 11th Gen Intel Evo Core i7 14 inch(35....</td>\n",
       "      <td>5.0 out of 5 stars</td>\n",
       "      <td>1,01,390</td>\n",
       "    </tr>\n",
       "    <tr>\n",
       "      <th>8</th>\n",
       "      <td>Hp Pavilion 15 12Th Gen Intel Core I7 16Gb Sdr...</td>\n",
       "      <td>5.0 out of 5 stars</td>\n",
       "      <td>87,990</td>\n",
       "    </tr>\n",
       "    <tr>\n",
       "      <th>9</th>\n",
       "      <td>(Renewed) Dell Intel Core i7 7th Gen 14.Inch(3...</td>\n",
       "      <td>5.0 out of 5 stars</td>\n",
       "      <td>55,895</td>\n",
       "    </tr>\n",
       "  </tbody>\n",
       "</table>\n",
       "</div>"
      ],
      "text/plain": [
       "                                                Name              Rating  \\\n",
       "0  Hp Pavilion X360 11Th Gen Intel Core I7 14 Inc...  5.0 out of 5 stars   \n",
       "1  Lenovo ThinkBook 15 Intel 11th Gen Core i7 15....  5.0 out of 5 stars   \n",
       "2  Lenovo IdeaPad Slim 5 Pro Intel Core i7 11th G...  5.0 out of 5 stars   \n",
       "3  ASUS TUF Gaming F15 (2021), 15.6\" (39.62 cms) ...  5.0 out of 5 stars   \n",
       "4  HP Pavilion 14 12th Gen Intel Core i7 16GB SDR...  5.0 out of 5 stars   \n",
       "5  ASUS Vivobook 15, 15.6-inch (39.62 cms) FHD, I...  5.0 out of 5 stars   \n",
       "6  Lenovo IdeaPad Flex 5 Intel Core i7 11th Gen 1...  5.0 out of 5 stars   \n",
       "7  HP Envy 11th Gen Intel Evo Core i7 14 inch(35....  5.0 out of 5 stars   \n",
       "8  Hp Pavilion 15 12Th Gen Intel Core I7 16Gb Sdr...  5.0 out of 5 stars   \n",
       "9  (Renewed) Dell Intel Core i7 7th Gen 14.Inch(3...  5.0 out of 5 stars   \n",
       "\n",
       "      Price  \n",
       "0    83,603  \n",
       "1    86,990  \n",
       "2    75,203  \n",
       "3    89,990  \n",
       "4    86,990  \n",
       "5    57,890  \n",
       "6    80,490  \n",
       "7  1,01,390  \n",
       "8    87,990  \n",
       "9    55,895  "
      ]
     },
     "execution_count": 381,
     "metadata": {},
     "output_type": "execute_result"
    }
   ],
   "source": [
    "a"
   ]
  },
  {
   "cell_type": "code",
   "execution_count": null,
   "id": "eee4adfb",
   "metadata": {},
   "outputs": [],
   "source": []
  },
  {
   "cell_type": "markdown",
   "id": "d94b3197",
   "metadata": {},
   "source": [
    "# Q9: Write a python program to scrape data for first 10 job results for Data Scientist Designation in Noida\n",
    "location. You have to scrape company name, No. of days ago when job was posted, Rating of the company.\n",
    "This task will be done in following steps:\n",
    "1. First get the webpage https://www.ambitionbox.com/\n",
    "2. Click on the Job option as shown in the image"
   ]
  },
  {
   "cell_type": "code",
   "execution_count": 57,
   "id": "9740ab8a",
   "metadata": {},
   "outputs": [],
   "source": [
    "from selenium.webdriver.common.by import By\n",
    "driver=webdriver.Chrome(r'C:\\Users\\Vishal Manoj\\Downloads\\Chrome\\chromedriver.exe')"
   ]
  },
  {
   "cell_type": "code",
   "execution_count": 58,
   "id": "10f4c8ce",
   "metadata": {},
   "outputs": [],
   "source": [
    "url= 'https://www.ambitionbox.com/'\n",
    "driver.get(url)"
   ]
  },
  {
   "cell_type": "code",
   "execution_count": 59,
   "id": "42eecf33",
   "metadata": {},
   "outputs": [],
   "source": [
    "search=driver.find_elements(By.XPATH,'/html/body/div[1]/nav/nav/a[6]')"
   ]
  },
  {
   "cell_type": "code",
   "execution_count": 60,
   "id": "8ef624a9",
   "metadata": {},
   "outputs": [],
   "source": [
    "search[0].click()"
   ]
  },
  {
   "cell_type": "code",
   "execution_count": 61,
   "id": "3f1925bb",
   "metadata": {},
   "outputs": [],
   "source": [
    "s=driver.find_elements(By.XPATH, '/html/body/div/div/div/div[2]/div[1]/div[1]/div/div/div/div/span/input')"
   ]
  },
  {
   "cell_type": "code",
   "execution_count": 62,
   "id": "bc99e446",
   "metadata": {},
   "outputs": [],
   "source": [
    "s[0].send_keys('Data Scientist')"
   ]
  },
  {
   "cell_type": "code",
   "execution_count": 63,
   "id": "fd23f7cc",
   "metadata": {},
   "outputs": [],
   "source": [
    "w=driver.find_elements(By.XPATH,'/html/body/div/div/div/div[2]/div[1]/div[1]/div/div/div/button/span')"
   ]
  },
  {
   "cell_type": "code",
   "execution_count": 64,
   "id": "54137168",
   "metadata": {},
   "outputs": [],
   "source": [
    "w[0].click()"
   ]
  },
  {
   "cell_type": "code",
   "execution_count": 67,
   "id": "7b04c3fd",
   "metadata": {},
   "outputs": [],
   "source": [
    "r=driver.find_elements(By.XPATH,'/html/body/div/div/div/div[2]/div[1]/div[2]/div[1]/div/div/div/div[2]/div[1]/p')"
   ]
  },
  {
   "cell_type": "code",
   "execution_count": 68,
   "id": "9991d1d0",
   "metadata": {},
   "outputs": [],
   "source": [
    "r[0].click()"
   ]
  },
  {
   "cell_type": "code",
   "execution_count": 69,
   "id": "13eec808",
   "metadata": {},
   "outputs": [],
   "source": [
    "u=driver.find_elements(By.XPATH,'/html/body/div/div/div/div[2]/div[1]/div[2]/div[1]/div/div/div/div[2]/div[2]/div/div[2]/input')"
   ]
  },
  {
   "cell_type": "code",
   "execution_count": 70,
   "id": "abd0e49f",
   "metadata": {},
   "outputs": [],
   "source": [
    "u[0].send_keys('Noida')"
   ]
  },
  {
   "cell_type": "code",
   "execution_count": 71,
   "id": "2c317052",
   "metadata": {},
   "outputs": [],
   "source": [
    "p=driver.find_elements(By.XPATH,'/html/body/div/div/div/div[2]/div[1]/div[2]/div[1]/div/div/div/div[2]/div[2]/div/div[3]/div[1]/div[1]/div/label')"
   ]
  },
  {
   "cell_type": "code",
   "execution_count": 72,
   "id": "a2f4fa24",
   "metadata": {},
   "outputs": [],
   "source": [
    "p[0].click()"
   ]
  },
  {
   "cell_type": "code",
   "execution_count": 49,
   "id": "30f3e9a3",
   "metadata": {},
   "outputs": [],
   "source": [
    "b=driver.find_elements(By.XPATH,'//a[@class=\"title noclick\"]')\n",
    "p=driver.find_elements(By.XPATH,'//p[@class=\"company body-medium\"]')\n",
    "r=driver.find_elements(By.XPATH,'//span[@class=\"body-small\"]')"
   ]
  },
  {
   "cell_type": "code",
   "execution_count": 54,
   "id": "b8f1743b",
   "metadata": {},
   "outputs": [],
   "source": [
    "na=[]\n",
    "pr=[]\n",
    "ra=[]\n",
    "for i in range(0,10):\n",
    "    na.append(b[i].text)\n",
    "    pr.append(p[i].text)\n",
    "    ra.append(r[i].text)"
   ]
  },
  {
   "cell_type": "code",
   "execution_count": 55,
   "id": "778c3cc1",
   "metadata": {},
   "outputs": [],
   "source": [
    "a=pd.DataFrame(list(zip(na,pr,ra)),\n",
    "              columns =['Job Title','Company Name','Rating'])"
   ]
  },
  {
   "cell_type": "code",
   "execution_count": 56,
   "id": "d9b0d59b",
   "metadata": {},
   "outputs": [
    {
     "data": {
      "text/html": [
       "<div>\n",
       "<style scoped>\n",
       "    .dataframe tbody tr th:only-of-type {\n",
       "        vertical-align: middle;\n",
       "    }\n",
       "\n",
       "    .dataframe tbody tr th {\n",
       "        vertical-align: top;\n",
       "    }\n",
       "\n",
       "    .dataframe thead th {\n",
       "        text-align: right;\n",
       "    }\n",
       "</style>\n",
       "<table border=\"1\" class=\"dataframe\">\n",
       "  <thead>\n",
       "    <tr style=\"text-align: right;\">\n",
       "      <th></th>\n",
       "      <th>Job Title</th>\n",
       "      <th>Company Name</th>\n",
       "      <th>Rating</th>\n",
       "    </tr>\n",
       "  </thead>\n",
       "  <tbody>\n",
       "    <tr>\n",
       "      <th>0</th>\n",
       "      <td>Senior Data Scientist</td>\n",
       "      <td>Optum Global Solutions (India) Private Limited</td>\n",
       "      <td>4.1</td>\n",
       "    </tr>\n",
       "    <tr>\n",
       "      <th>1</th>\n",
       "      <td>Data Scientist- Forecasting and R or Python</td>\n",
       "      <td>GENPACT India Private Limited</td>\n",
       "      <td>4.0</td>\n",
       "    </tr>\n",
       "    <tr>\n",
       "      <th>2</th>\n",
       "      <td>Data Scientist</td>\n",
       "      <td>GENPACT India Private Limited</td>\n",
       "      <td>4.0</td>\n",
       "    </tr>\n",
       "    <tr>\n",
       "      <th>3</th>\n",
       "      <td>Data Scientist - NLP</td>\n",
       "      <td>CRMnext</td>\n",
       "      <td>4.1</td>\n",
       "    </tr>\n",
       "    <tr>\n",
       "      <th>4</th>\n",
       "      <td>Data Scientist - NLP</td>\n",
       "      <td>Acidaes Solutions Pvt. Ltd.</td>\n",
       "      <td>3.8</td>\n",
       "    </tr>\n",
       "    <tr>\n",
       "      <th>5</th>\n",
       "      <td>Data Science - Lead Data Scientist</td>\n",
       "      <td>Paytm</td>\n",
       "      <td>3.7</td>\n",
       "    </tr>\n",
       "    <tr>\n",
       "      <th>6</th>\n",
       "      <td>Data Scientist - Associate Vice President</td>\n",
       "      <td>Paytm</td>\n",
       "      <td>3.7</td>\n",
       "    </tr>\n",
       "    <tr>\n",
       "      <th>7</th>\n",
       "      <td>Data Science Trainer | AI | Machine Learning |...</td>\n",
       "      <td>Careerera</td>\n",
       "      <td>4.6</td>\n",
       "    </tr>\n",
       "    <tr>\n",
       "      <th>8</th>\n",
       "      <td>Senior Data Scientist - Artificial Intelligenc...</td>\n",
       "      <td>Randstad</td>\n",
       "      <td>4.1</td>\n",
       "    </tr>\n",
       "    <tr>\n",
       "      <th>9</th>\n",
       "      <td>Data Scientist - Python/SQL/Redshift (4-7 yrs)</td>\n",
       "      <td>Telus International</td>\n",
       "      <td>4.2</td>\n",
       "    </tr>\n",
       "  </tbody>\n",
       "</table>\n",
       "</div>"
      ],
      "text/plain": [
       "                                           Job Title  \\\n",
       "0                              Senior Data Scientist   \n",
       "1        Data Scientist- Forecasting and R or Python   \n",
       "2                                     Data Scientist   \n",
       "3                               Data Scientist - NLP   \n",
       "4                               Data Scientist - NLP   \n",
       "5                 Data Science - Lead Data Scientist   \n",
       "6          Data Scientist - Associate Vice President   \n",
       "7  Data Science Trainer | AI | Machine Learning |...   \n",
       "8  Senior Data Scientist - Artificial Intelligenc...   \n",
       "9     Data Scientist - Python/SQL/Redshift (4-7 yrs)   \n",
       "\n",
       "                                     Company Name Rating  \n",
       "0  Optum Global Solutions (India) Private Limited    4.1  \n",
       "1                   GENPACT India Private Limited    4.0  \n",
       "2                   GENPACT India Private Limited    4.0  \n",
       "3                                         CRMnext    4.1  \n",
       "4                     Acidaes Solutions Pvt. Ltd.    3.8  \n",
       "5                                           Paytm    3.7  \n",
       "6                                           Paytm    3.7  \n",
       "7                                       Careerera    4.6  \n",
       "8                                        Randstad    4.1  \n",
       "9                             Telus International    4.2  "
      ]
     },
     "execution_count": 56,
     "metadata": {},
     "output_type": "execute_result"
    }
   ],
   "source": [
    "a"
   ]
  },
  {
   "cell_type": "code",
   "execution_count": null,
   "id": "d96e56cc",
   "metadata": {},
   "outputs": [],
   "source": []
  },
  {
   "cell_type": "markdown",
   "id": "fa22c850",
   "metadata": {},
   "source": [
    "# Q10: Write a python program to scrape the salary data for Data Scientist designation.\n",
    "You have to scrape Company name, Number of salaries, Average salary, Minsalary, Max Salary.\n",
    "The above task will be, done as shown in the below steps:"
   ]
  },
  {
   "cell_type": "code",
   "execution_count": 3,
   "id": "73f19494",
   "metadata": {},
   "outputs": [],
   "source": [
    "from selenium.webdriver.common.by import By\n",
    "driver=webdriver.Chrome(r'C:\\Users\\Vishal Manoj\\Downloads\\Chrome\\chromedriver.exe')\n",
    "url= 'https://www.ambitionbox.com/'\n",
    "driver.get(url)"
   ]
  },
  {
   "cell_type": "code",
   "execution_count": 4,
   "id": "ad38fd4e",
   "metadata": {},
   "outputs": [],
   "source": [
    "s=driver.find_elements(By.XPATH,'/html/body/div[1]/nav/nav/a[4]')"
   ]
  },
  {
   "cell_type": "code",
   "execution_count": 5,
   "id": "dc7cf625",
   "metadata": {},
   "outputs": [],
   "source": [
    "s[0].click()"
   ]
  },
  {
   "cell_type": "code",
   "execution_count": 33,
   "id": "41348cbc",
   "metadata": {},
   "outputs": [
    {
     "data": {
      "text/plain": [
       "[<selenium.webdriver.remote.webelement.WebElement (session=\"f691ad2db3a82a706a2120c1d4d1f858\", element=\"83faf212-d469-4d8a-84ef-afb1bf5f29dc\")>]"
      ]
     },
     "execution_count": 33,
     "metadata": {},
     "output_type": "execute_result"
    }
   ],
   "source": [
    "o=driver.find_elements(By.XPATH, '/html/body/div/div/div/main/section[1]/div[2]/div[1]/span/input')\n",
    "o"
   ]
  },
  {
   "cell_type": "code",
   "execution_count": 34,
   "id": "51b0a400",
   "metadata": {},
   "outputs": [],
   "source": [
    "o[0].send_keys('Data Scientist')"
   ]
  },
  {
   "cell_type": "code",
   "execution_count": 35,
   "id": "14077759",
   "metadata": {},
   "outputs": [],
   "source": [
    "from selenium.webdriver.common.keys import Keys\n",
    "o[0].send_keys(Keys.ENTER)"
   ]
  },
  {
   "cell_type": "code",
   "execution_count": 38,
   "id": "6f13c1b2",
   "metadata": {},
   "outputs": [],
   "source": [
    "b=driver.find_elements(By.XPATH,'//div[@class=\"company-info\"]')"
   ]
  },
  {
   "cell_type": "code",
   "execution_count": 59,
   "id": "08de0fe0",
   "metadata": {},
   "outputs": [
    {
     "data": {
      "text/plain": [
       "['Walmart', 'Data Scientist Salary', '3 yrs experience (based on 12 salaries)']"
      ]
     },
     "execution_count": 59,
     "metadata": {},
     "output_type": "execute_result"
    }
   ],
   "source": [
    "b[0].text.split('\\n')"
   ]
  },
  {
   "cell_type": "code",
   "execution_count": 56,
   "id": "5dc387c8",
   "metadata": {},
   "outputs": [],
   "source": [
    "h=driver.find_elements(By.XPATH,'//div[@class=\"salary-values\"]')"
   ]
  },
  {
   "cell_type": "code",
   "execution_count": 64,
   "id": "edda70a0",
   "metadata": {},
   "outputs": [
    {
     "data": {
      "text/plain": [
       "['₹ 11.0L', '₹ 22.5L']"
      ]
     },
     "execution_count": 64,
     "metadata": {},
     "output_type": "execute_result"
    }
   ],
   "source": [
    "h[3].text.split('\\n')"
   ]
  },
  {
   "cell_type": "code",
   "execution_count": 60,
   "id": "f64102a4",
   "metadata": {},
   "outputs": [],
   "source": [
    "j=driver.find_elements(By.XPATH,'//p[@class=\"averageCtc\"]')"
   ]
  },
  {
   "cell_type": "code",
   "execution_count": 61,
   "id": "54b8e46c",
   "metadata": {},
   "outputs": [
    {
     "data": {
      "text/plain": [
       "'₹ 30.6L'"
      ]
     },
     "execution_count": 61,
     "metadata": {},
     "output_type": "execute_result"
    }
   ],
   "source": [
    "j[0].text"
   ]
  },
  {
   "cell_type": "code",
   "execution_count": 65,
   "id": "be5c3eb7",
   "metadata": {},
   "outputs": [],
   "source": [
    "n=[]\n",
    "m=[]\n",
    "e=[]\n",
    "s=[]\n",
    "l=[]\n",
    "a=[]\n",
    "for i in range (0, 10):\n",
    "    n.append(b[i].text.split('\\n')[0])\n",
    "    m.append(b[i].text.split('\\n')[1])\n",
    "    e.append(b[i].text.split('\\n')[2])\n",
    "    s.append(h[i].text.split('\\n')[0])\n",
    "    l.append(h[i].text.split('\\n')[1])\n",
    "    a.append(j[i].text)"
   ]
  },
  {
   "cell_type": "code",
   "execution_count": 67,
   "id": "01e0cc50",
   "metadata": {},
   "outputs": [],
   "source": [
    "op=a=pd.DataFrame(list(zip(n,m,e,s,l,a)),\n",
    "              columns =['Company Name','Job Title','Experience','Minimum salary','Maximum salary','average salary'])"
   ]
  },
  {
   "cell_type": "code",
   "execution_count": 69,
   "id": "21e93a1c",
   "metadata": {},
   "outputs": [
    {
     "data": {
      "text/html": [
       "<div>\n",
       "<style scoped>\n",
       "    .dataframe tbody tr th:only-of-type {\n",
       "        vertical-align: middle;\n",
       "    }\n",
       "\n",
       "    .dataframe tbody tr th {\n",
       "        vertical-align: top;\n",
       "    }\n",
       "\n",
       "    .dataframe thead th {\n",
       "        text-align: right;\n",
       "    }\n",
       "</style>\n",
       "<table border=\"1\" class=\"dataframe\">\n",
       "  <thead>\n",
       "    <tr style=\"text-align: right;\">\n",
       "      <th></th>\n",
       "      <th>Company Name</th>\n",
       "      <th>Job Title</th>\n",
       "      <th>Experience</th>\n",
       "      <th>Minimum salary</th>\n",
       "      <th>Maximum salary</th>\n",
       "      <th>average salary</th>\n",
       "    </tr>\n",
       "  </thead>\n",
       "  <tbody>\n",
       "    <tr>\n",
       "      <th>0</th>\n",
       "      <td>Walmart</td>\n",
       "      <td>Data Scientist Salary</td>\n",
       "      <td>3 yrs experience (based on 12 salaries)</td>\n",
       "      <td>₹ 25.0L</td>\n",
       "      <td>₹ 36.0L</td>\n",
       "      <td>₹ 30.6L</td>\n",
       "    </tr>\n",
       "    <tr>\n",
       "      <th>1</th>\n",
       "      <td>Ab Inbev</td>\n",
       "      <td>Data Scientist Salary</td>\n",
       "      <td>3-4 yrs experience (based on 33 salaries)</td>\n",
       "      <td>₹ 15.0L</td>\n",
       "      <td>₹ 26.2L</td>\n",
       "      <td>₹ 20.8L</td>\n",
       "    </tr>\n",
       "    <tr>\n",
       "      <th>2</th>\n",
       "      <td>ZS</td>\n",
       "      <td>Data Scientist Salary</td>\n",
       "      <td>2 yrs experience (based on 15 salaries)</td>\n",
       "      <td>₹ 11.0L</td>\n",
       "      <td>₹ 22.0L</td>\n",
       "      <td>₹ 16.7L</td>\n",
       "    </tr>\n",
       "    <tr>\n",
       "      <th>3</th>\n",
       "      <td>Optum</td>\n",
       "      <td>Data Scientist Salary</td>\n",
       "      <td>3-4 yrs experience (based on 32 salaries)</td>\n",
       "      <td>₹ 11.0L</td>\n",
       "      <td>₹ 22.5L</td>\n",
       "      <td>₹ 15.9L</td>\n",
       "    </tr>\n",
       "    <tr>\n",
       "      <th>4</th>\n",
       "      <td>Reliance Jio</td>\n",
       "      <td>Data Scientist Salary</td>\n",
       "      <td>3-4 yrs experience (based on 21 salaries)</td>\n",
       "      <td>₹ 5.6L</td>\n",
       "      <td>₹ 26.2L</td>\n",
       "      <td>₹ 15.7L</td>\n",
       "    </tr>\n",
       "    <tr>\n",
       "      <th>5</th>\n",
       "      <td>Fractal Analytics</td>\n",
       "      <td>Data Scientist Salary</td>\n",
       "      <td>2-4 yrs experience (based on 89 salaries)</td>\n",
       "      <td>₹ 10.0L</td>\n",
       "      <td>₹ 23.0L</td>\n",
       "      <td>₹ 15.5L</td>\n",
       "    </tr>\n",
       "    <tr>\n",
       "      <th>6</th>\n",
       "      <td>Tiger Analytics</td>\n",
       "      <td>Data Scientist Salary</td>\n",
       "      <td>2-4 yrs experience (based on 51 salaries)</td>\n",
       "      <td>₹ 9.0L</td>\n",
       "      <td>₹ 20.0L</td>\n",
       "      <td>₹ 14.8L</td>\n",
       "    </tr>\n",
       "    <tr>\n",
       "      <th>7</th>\n",
       "      <td>UnitedHealth</td>\n",
       "      <td>Data Scientist Salary</td>\n",
       "      <td>2-4 yrs experience (based on 57 salaries)</td>\n",
       "      <td>₹ 8.3L</td>\n",
       "      <td>₹ 21.1L</td>\n",
       "      <td>₹ 14.0L</td>\n",
       "    </tr>\n",
       "    <tr>\n",
       "      <th>8</th>\n",
       "      <td>EXL Service</td>\n",
       "      <td>Data Scientist Salary</td>\n",
       "      <td>3-4 yrs experience (based on 21 salaries)</td>\n",
       "      <td>₹ 7.6L</td>\n",
       "      <td>₹ 21.0L</td>\n",
       "      <td>₹ 13.2L</td>\n",
       "    </tr>\n",
       "    <tr>\n",
       "      <th>9</th>\n",
       "      <td>Deloitte</td>\n",
       "      <td>Data Scientist Salary</td>\n",
       "      <td>2-4 yrs experience (based on 69 salaries)</td>\n",
       "      <td>₹ 7.0L</td>\n",
       "      <td>₹ 25.0L</td>\n",
       "      <td>₹ 12.8L</td>\n",
       "    </tr>\n",
       "  </tbody>\n",
       "</table>\n",
       "</div>"
      ],
      "text/plain": [
       "        Company Name              Job Title  \\\n",
       "0            Walmart  Data Scientist Salary   \n",
       "1           Ab Inbev  Data Scientist Salary   \n",
       "2                 ZS  Data Scientist Salary   \n",
       "3              Optum  Data Scientist Salary   \n",
       "4       Reliance Jio  Data Scientist Salary   \n",
       "5  Fractal Analytics  Data Scientist Salary   \n",
       "6    Tiger Analytics  Data Scientist Salary   \n",
       "7       UnitedHealth  Data Scientist Salary   \n",
       "8        EXL Service  Data Scientist Salary   \n",
       "9           Deloitte  Data Scientist Salary   \n",
       "\n",
       "                                  Experience Minimum salary Maximum salary  \\\n",
       "0    3 yrs experience (based on 12 salaries)        ₹ 25.0L        ₹ 36.0L   \n",
       "1  3-4 yrs experience (based on 33 salaries)        ₹ 15.0L        ₹ 26.2L   \n",
       "2    2 yrs experience (based on 15 salaries)        ₹ 11.0L        ₹ 22.0L   \n",
       "3  3-4 yrs experience (based on 32 salaries)        ₹ 11.0L        ₹ 22.5L   \n",
       "4  3-4 yrs experience (based on 21 salaries)         ₹ 5.6L        ₹ 26.2L   \n",
       "5  2-4 yrs experience (based on 89 salaries)        ₹ 10.0L        ₹ 23.0L   \n",
       "6  2-4 yrs experience (based on 51 salaries)         ₹ 9.0L        ₹ 20.0L   \n",
       "7  2-4 yrs experience (based on 57 salaries)         ₹ 8.3L        ₹ 21.1L   \n",
       "8  3-4 yrs experience (based on 21 salaries)         ₹ 7.6L        ₹ 21.0L   \n",
       "9  2-4 yrs experience (based on 69 salaries)         ₹ 7.0L        ₹ 25.0L   \n",
       "\n",
       "  average salary  \n",
       "0        ₹ 30.6L  \n",
       "1        ₹ 20.8L  \n",
       "2        ₹ 16.7L  \n",
       "3        ₹ 15.9L  \n",
       "4        ₹ 15.7L  \n",
       "5        ₹ 15.5L  \n",
       "6        ₹ 14.8L  \n",
       "7        ₹ 14.0L  \n",
       "8        ₹ 13.2L  \n",
       "9        ₹ 12.8L  "
      ]
     },
     "execution_count": 69,
     "metadata": {},
     "output_type": "execute_result"
    }
   ],
   "source": [
    "op.head(10)"
   ]
  },
  {
   "cell_type": "code",
   "execution_count": null,
   "id": "bf846386",
   "metadata": {},
   "outputs": [],
   "source": []
  }
 ],
 "metadata": {
  "kernelspec": {
   "display_name": "Python 3",
   "language": "python",
   "name": "python3"
  },
  "language_info": {
   "codemirror_mode": {
    "name": "ipython",
    "version": 3
   },
   "file_extension": ".py",
   "mimetype": "text/x-python",
   "name": "python",
   "nbconvert_exporter": "python",
   "pygments_lexer": "ipython3",
   "version": "3.8.8"
  }
 },
 "nbformat": 4,
 "nbformat_minor": 5
}
